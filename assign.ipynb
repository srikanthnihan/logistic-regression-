{
 "cells": [
  {
   "cell_type": "code",
   "execution_count": null,
   "id": "dff55de8",
   "metadata": {},
   "outputs": [],
   "source": [
    "import pandas as pd\n",
    "import numpy as np\n",
    "import seaborn as sns\n",
    "from sklearn.linear_model import LogisticRegression\n",
    "from sklearn.model_selection import train_test_split\n",
    "from sklearn.metrics import confusion_matrix\n",
    "from sklearn.metrics import accuracy_score,confusion_matrix\n",
    "from sklearn.metrics import precision_score,recall_score"
   ]
  },
  {
   "cell_type": "code",
   "execution_count": null,
   "id": "f5209f5c",
   "metadata": {},
   "outputs": [],
   "source": [
    "df=pd.read_csv('C:/Users/shaik/Downloads/Accusaga_DS_Assignment/Accusaga_DS_Assignment/DS_dataset.csv')"
   ]
  },
  {
   "cell_type": "code",
   "execution_count": null,
   "id": "47e58549",
   "metadata": {},
   "outputs": [],
   "source": [
    "df.head(5)"
   ]
  },
  {
   "cell_type": "code",
   "execution_count": null,
   "id": "c47d47da",
   "metadata": {},
   "outputs": [],
   "source": [
    "#EDD(EXPLORATION OF DATA DICTIONARY)\n",
    "df.describe()\n",
    "df.shape\n",
    "df.info()"
   ]
  },
  {
   "cell_type": "code",
   "execution_count": null,
   "id": "1bec5709",
   "metadata": {},
   "outputs": [],
   "source": [
    "sns.countplot(x=\"Group\",data=df)"
   ]
  },
  {
   "cell_type": "code",
   "execution_count": null,
   "id": "436848a1",
   "metadata": {},
   "outputs": [],
   "source": [
    "sns.countplot(x=\"Category\",data=df)"
   ]
  },
  {
   "cell_type": "code",
   "execution_count": null,
   "id": "1111fffc",
   "metadata": {},
   "outputs": [],
   "source": [
    "sns.countplot(x=\"Purchased_ABC_product\",data=df)"
   ]
  },
  {
   "cell_type": "code",
   "execution_count": null,
   "id": "246f4c40",
   "metadata": {},
   "outputs": [],
   "source": [
    "sns.boxplot(x=\"Var1\",data=df)"
   ]
  },
  {
   "cell_type": "code",
   "execution_count": null,
   "id": "9c65ea40",
   "metadata": {},
   "outputs": [],
   "source": [
    "sns.boxplot(y=\"Var2\",data=df)"
   ]
  },
  {
   "cell_type": "code",
   "execution_count": null,
   "id": "e917ab56",
   "metadata": {},
   "outputs": [],
   "source": [
    "sns.jointplot(x=\"Var1\",y=\"Purchased_ABC_product\",data=df)"
   ]
  },
  {
   "cell_type": "code",
   "execution_count": null,
   "id": "8e1c3a11",
   "metadata": {},
   "outputs": [],
   "source": [
    "sns.jointplot(x=\"Var2\",y=\"Purchased_ABC_product\",data=df)"
   ]
  },
  {
   "cell_type": "code",
   "execution_count": null,
   "id": "45504043",
   "metadata": {},
   "outputs": [],
   "source": [
    "#OUTLIERS TREATMENT\n",
    "np.percentile(df.Var1,[90])[0]\n",
    "uv=np.percentile(df.Var1,[90])[0]\n",
    "df[df.Var1>uv]\n",
    "df.Var1[df.Var1>uv]=uv"
   ]
  },
  {
   "cell_type": "code",
   "execution_count": null,
   "id": "0623bc5a",
   "metadata": {},
   "outputs": [],
   "source": [
    "np.percentile(df.Var2,[95])[0]\n",
    "ul=np.percentile(df.Var2,[95])[0]\n",
    "df.Var2[df.Var2>ul]=ul"
   ]
  },
  {
   "cell_type": "code",
   "execution_count": null,
   "id": "5eacbfa7",
   "metadata": {},
   "outputs": [],
   "source": [
    "#INTRODUCING DUMMIES\n",
    "df=pd.get_dummies(df)"
   ]
  },
  {
   "cell_type": "code",
   "execution_count": null,
   "id": "3b66ef47",
   "metadata": {},
   "outputs": [],
   "source": [
    "# DELETING NON-USABLE VARIABLES\n",
    "del df['Category_C5']\n",
    "del df['Group_G8']\n",
    "del df['Customer_ID']"
   ]
  },
  {
   "cell_type": "code",
   "execution_count": null,
   "id": "c44bab7a",
   "metadata": {},
   "outputs": [],
   "source": [
    "#CORRELATION MARTIX\n",
    "df.corr()"
   ]
  },
  {
   "cell_type": "code",
   "execution_count": null,
   "id": "55de6018",
   "metadata": {},
   "outputs": [],
   "source": [
    "#LOGISTIC MODEL FITTING\n",
    "x=df.loc[:, df.columns != 'Purchased_ABC_product']\n",
    "y=df['Purchased_ABC_product']"
   ]
  },
  {
   "cell_type": "code",
   "execution_count": null,
   "id": "beb760d5",
   "metadata": {},
   "outputs": [],
   "source": [
    "#split data into train and test\n",
    "x_train,x_test,y_train,y_test=train_test_split(x,y,test_size=0.2,random_state=0)"
   ]
  },
  {
   "cell_type": "code",
   "execution_count": null,
   "id": "099f1dd8",
   "metadata": {},
   "outputs": [],
   "source": [
    "lr=LogisticRegression().fit(x_train,y_train)\n",
    "y_test_pred=lr.predict(x_test)"
   ]
  },
  {
   "cell_type": "code",
   "execution_count": null,
   "id": "5d009681",
   "metadata": {},
   "outputs": [],
   "source": [
    "#FINDING PROBABILITIES FOR EACH CUSTOMER\n",
    "lr.predict_proba(x-train)"
   ]
  },
  {
   "cell_type": "code",
   "execution_count": null,
   "id": "01e1ea4a",
   "metadata": {},
   "outputs": [],
   "source": [
    "#cnfusion mattrix\n",
    "con=confusion_matrix(y_test,y_test_pred)\n",
    "#accuracy(roc) score\n",
    "accuracy_score(y_test,y_test_pred)\n",
    "#precision score\n",
    "precision_score(y_test,y_test_pred)\n",
    "#recall score\n",
    "recall_score(y_test,y_test_pred)"
   ]
  },
  {
   "cell_type": "code",
   "execution_count": null,
   "id": "1034acad",
   "metadata": {},
   "outputs": [],
   "source": [
    "#identifying the group to reach out to increase sale of ABC\n",
    "a=df[['Group_G2']]\n",
    "b=df['Purchased_ABC_product']\n",
    "model=LogisticRegression().fit(a,b)\n",
    "\n",
    "b_pred=model.predict(a)\n",
    "con=confusion_matrix(b,b_pred)\n",
    "con"
   ]
  },
  {
   "cell_type": "code",
   "execution_count": null,
   "id": "906be0ee",
   "metadata": {},
   "outputs": [],
   "source": [
    "recall_score(b,b_pred)"
   ]
  },
  {
   "cell_type": "code",
   "execution_count": null,
   "id": "8a818af2",
   "metadata": {},
   "outputs": [],
   "source": []
  }
 ],
 "metadata": {
  "kernelspec": {
   "display_name": "Python 3 (ipykernel)",
   "language": "python",
   "name": "python3"
  },
  "language_info": {
   "codemirror_mode": {
    "name": "ipython",
    "version": 3
   },
   "file_extension": ".py",
   "mimetype": "text/x-python",
   "name": "python",
   "nbconvert_exporter": "python",
   "pygments_lexer": "ipython3",
   "version": "3.9.7"
  }
 },
 "nbformat": 4,
 "nbformat_minor": 5
}
