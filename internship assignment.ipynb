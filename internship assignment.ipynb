{
 "cells": [
  {
   "cell_type": "code",
   "execution_count": 1,
   "id": "f7292bb3",
   "metadata": {},
   "outputs": [],
   "source": [
    "import pandas as pd\n",
    "import numpy as np\n",
    "import seaborn as sns\n",
    "from sklearn.linear_model import LogisticRegression\n",
    "from sklearn.model_selection import train_test_split\n",
    "from sklearn.metrics import confusion_matrix\n",
    "from sklearn.metrics import accuracy_score,confusion_matrix\n",
    "from sklearn.metrics import precision_score,recall_score"
   ]
  },
  {
   "cell_type": "code",
   "execution_count": 2,
   "id": "53b6c6d1",
   "metadata": {},
   "outputs": [],
   "source": [
    "df=pd.read_csv('C:/Users/shaik/Downloads/Accusaga_DS_Assignment/Accusaga_DS_Assignment/DS_dataset.csv')"
   ]
  },
  {
   "cell_type": "code",
   "execution_count": 3,
   "id": "04a49287",
   "metadata": {},
   "outputs": [
    {
     "data": {
      "text/html": [
       "<div>\n",
       "<style scoped>\n",
       "    .dataframe tbody tr th:only-of-type {\n",
       "        vertical-align: middle;\n",
       "    }\n",
       "\n",
       "    .dataframe tbody tr th {\n",
       "        vertical-align: top;\n",
       "    }\n",
       "\n",
       "    .dataframe thead th {\n",
       "        text-align: right;\n",
       "    }\n",
       "</style>\n",
       "<table border=\"1\" class=\"dataframe\">\n",
       "  <thead>\n",
       "    <tr style=\"text-align: right;\">\n",
       "      <th></th>\n",
       "      <th>Customer_ID</th>\n",
       "      <th>Var1</th>\n",
       "      <th>Var2</th>\n",
       "      <th>Group</th>\n",
       "      <th>Category</th>\n",
       "      <th>Rating</th>\n",
       "      <th>Purchased_ABC_product</th>\n",
       "    </tr>\n",
       "  </thead>\n",
       "  <tbody>\n",
       "    <tr>\n",
       "      <th>0</th>\n",
       "      <td>5518</td>\n",
       "      <td>41.534</td>\n",
       "      <td>12.123</td>\n",
       "      <td>G1</td>\n",
       "      <td>C1</td>\n",
       "      <td>Bronze</td>\n",
       "      <td>0</td>\n",
       "    </tr>\n",
       "    <tr>\n",
       "      <th>1</th>\n",
       "      <td>40515</td>\n",
       "      <td>9.445</td>\n",
       "      <td>0.256</td>\n",
       "      <td>G1</td>\n",
       "      <td>C1</td>\n",
       "      <td>Bronze</td>\n",
       "      <td>0</td>\n",
       "    </tr>\n",
       "    <tr>\n",
       "      <th>2</th>\n",
       "      <td>52697</td>\n",
       "      <td>37.599</td>\n",
       "      <td>3.199</td>\n",
       "      <td>G1</td>\n",
       "      <td>C2</td>\n",
       "      <td>Gold</td>\n",
       "      <td>0</td>\n",
       "    </tr>\n",
       "    <tr>\n",
       "      <th>3</th>\n",
       "      <td>68202</td>\n",
       "      <td>81.514</td>\n",
       "      <td>1.645</td>\n",
       "      <td>G1</td>\n",
       "      <td>C1</td>\n",
       "      <td>Silver</td>\n",
       "      <td>0</td>\n",
       "    </tr>\n",
       "    <tr>\n",
       "      <th>4</th>\n",
       "      <td>130003</td>\n",
       "      <td>46.805</td>\n",
       "      <td>1.706</td>\n",
       "      <td>G1</td>\n",
       "      <td>C1</td>\n",
       "      <td>Silver</td>\n",
       "      <td>0</td>\n",
       "    </tr>\n",
       "  </tbody>\n",
       "</table>\n",
       "</div>"
      ],
      "text/plain": [
       "   Customer_ID    Var1    Var2 Group Category  Rating  Purchased_ABC_product\n",
       "0         5518  41.534  12.123    G1       C1  Bronze                      0\n",
       "1        40515   9.445   0.256    G1       C1  Bronze                      0\n",
       "2        52697  37.599   3.199    G1       C2    Gold                      0\n",
       "3        68202  81.514   1.645    G1       C1  Silver                      0\n",
       "4       130003  46.805   1.706    G1       C1  Silver                      0"
      ]
     },
     "execution_count": 3,
     "metadata": {},
     "output_type": "execute_result"
    }
   ],
   "source": [
    "df.head(5)"
   ]
  },
  {
   "cell_type": "code",
   "execution_count": 4,
   "id": "6127fded",
   "metadata": {
    "scrolled": true
   },
   "outputs": [
    {
     "data": {
      "text/html": [
       "<div>\n",
       "<style scoped>\n",
       "    .dataframe tbody tr th:only-of-type {\n",
       "        vertical-align: middle;\n",
       "    }\n",
       "\n",
       "    .dataframe tbody tr th {\n",
       "        vertical-align: top;\n",
       "    }\n",
       "\n",
       "    .dataframe thead th {\n",
       "        text-align: right;\n",
       "    }\n",
       "</style>\n",
       "<table border=\"1\" class=\"dataframe\">\n",
       "  <thead>\n",
       "    <tr style=\"text-align: right;\">\n",
       "      <th></th>\n",
       "      <th>Customer_ID</th>\n",
       "      <th>Var1</th>\n",
       "      <th>Var2</th>\n",
       "      <th>Purchased_ABC_product</th>\n",
       "    </tr>\n",
       "  </thead>\n",
       "  <tbody>\n",
       "    <tr>\n",
       "      <th>count</th>\n",
       "      <td>3.082900e+04</td>\n",
       "      <td>30829.000000</td>\n",
       "      <td>30829.000000</td>\n",
       "      <td>30829.000000</td>\n",
       "    </tr>\n",
       "    <tr>\n",
       "      <th>mean</th>\n",
       "      <td>3.057482e+06</td>\n",
       "      <td>64.868318</td>\n",
       "      <td>4.994489</td>\n",
       "      <td>0.503552</td>\n",
       "    </tr>\n",
       "    <tr>\n",
       "      <th>std</th>\n",
       "      <td>2.210470e+06</td>\n",
       "      <td>114.373345</td>\n",
       "      <td>9.533546</td>\n",
       "      <td>0.499995</td>\n",
       "    </tr>\n",
       "    <tr>\n",
       "      <th>min</th>\n",
       "      <td>6.470000e+02</td>\n",
       "      <td>0.251000</td>\n",
       "      <td>0.000000</td>\n",
       "      <td>0.000000</td>\n",
       "    </tr>\n",
       "    <tr>\n",
       "      <th>25%</th>\n",
       "      <td>1.501804e+06</td>\n",
       "      <td>13.256000</td>\n",
       "      <td>0.668000</td>\n",
       "      <td>0.000000</td>\n",
       "    </tr>\n",
       "    <tr>\n",
       "      <th>50%</th>\n",
       "      <td>2.192582e+06</td>\n",
       "      <td>31.860000</td>\n",
       "      <td>2.189000</td>\n",
       "      <td>1.000000</td>\n",
       "    </tr>\n",
       "    <tr>\n",
       "      <th>75%</th>\n",
       "      <td>4.732076e+06</td>\n",
       "      <td>68.702000</td>\n",
       "      <td>5.482000</td>\n",
       "      <td>1.000000</td>\n",
       "    </tr>\n",
       "    <tr>\n",
       "      <th>max</th>\n",
       "      <td>7.285914e+06</td>\n",
       "      <td>2909.776000</td>\n",
       "      <td>317.380000</td>\n",
       "      <td>1.000000</td>\n",
       "    </tr>\n",
       "  </tbody>\n",
       "</table>\n",
       "</div>"
      ],
      "text/plain": [
       "        Customer_ID          Var1          Var2  Purchased_ABC_product\n",
       "count  3.082900e+04  30829.000000  30829.000000           30829.000000\n",
       "mean   3.057482e+06     64.868318      4.994489               0.503552\n",
       "std    2.210470e+06    114.373345      9.533546               0.499995\n",
       "min    6.470000e+02      0.251000      0.000000               0.000000\n",
       "25%    1.501804e+06     13.256000      0.668000               0.000000\n",
       "50%    2.192582e+06     31.860000      2.189000               1.000000\n",
       "75%    4.732076e+06     68.702000      5.482000               1.000000\n",
       "max    7.285914e+06   2909.776000    317.380000               1.000000"
      ]
     },
     "execution_count": 4,
     "metadata": {},
     "output_type": "execute_result"
    }
   ],
   "source": [
    "#EDD(EXPLORATION OF DATA DICTIONARY)\n",
    "df.describe()"
   ]
  },
  {
   "cell_type": "code",
   "execution_count": 21,
   "id": "aeaf4cc7",
   "metadata": {},
   "outputs": [
    {
     "data": {
      "text/plain": [
       "(30829, 7)"
      ]
     },
     "execution_count": 21,
     "metadata": {},
     "output_type": "execute_result"
    }
   ],
   "source": [
    "df.shape"
   ]
  },
  {
   "cell_type": "code",
   "execution_count": 9,
   "id": "e694446a",
   "metadata": {},
   "outputs": [
    {
     "name": "stdout",
     "output_type": "stream",
     "text": [
      "<class 'pandas.core.frame.DataFrame'>\n",
      "RangeIndex: 30829 entries, 0 to 30828\n",
      "Data columns (total 7 columns):\n",
      " #   Column                 Non-Null Count  Dtype  \n",
      "---  ------                 --------------  -----  \n",
      " 0   Customer_ID            30829 non-null  int64  \n",
      " 1   Var1                   30829 non-null  float64\n",
      " 2   Var2                   30829 non-null  float64\n",
      " 3   Group                  30829 non-null  object \n",
      " 4   Category               30829 non-null  object \n",
      " 5   Rating                 30829 non-null  object \n",
      " 6   Purchased_ABC_product  30829 non-null  int64  \n",
      "dtypes: float64(2), int64(2), object(3)\n",
      "memory usage: 1.6+ MB\n"
     ]
    }
   ],
   "source": [
    "df.info()"
   ]
  },
  {
   "cell_type": "code",
   "execution_count": 12,
   "id": "be0f3499",
   "metadata": {},
   "outputs": [
    {
     "data": {
      "text/plain": [
       "<AxesSubplot:xlabel='Group', ylabel='count'>"
      ]
     },
     "execution_count": 12,
     "metadata": {},
     "output_type": "execute_result"
    },
    {
     "data": {
      "image/png": "[encoded data removed]",
      "text/plain": [
       "<Figure size 432x288 with 1 Axes>"
      ]
     },
     "metadata": {
      "needs_background": "light"
     },
     "output_type": "display_data"
    }
   ],
   "source": [
    "sns.countplot(x=\"Group\",data=df)"
   ]
  },
  {
   "cell_type": "code",
   "execution_count": 13,
   "id": "be56163a",
   "metadata": {
    "scrolled": true
   },
   "outputs": [
    {
     "data": {
      "text/plain": [
       "<AxesSubplot:xlabel='Category', ylabel='count'>"
      ]
     },
     "execution_count": 13,
     "metadata": {},
     "output_type": "execute_result"
    },
    {
     "data": {
      "image/png": "[encoded data removed]",
      "text/plain": [
       "<Figure size 432x288 with 1 Axes>"
      ]
     },
     "metadata": {
      "needs_background": "light"
     },
     "output_type": "display_data"
    }
   ],
   "source": [
    "sns.countplot(x=\"Category\",data=df)"
   ]
  },
  {
   "cell_type": "code",
   "execution_count": 23,
   "id": "81ea8310",
   "metadata": {},
   "outputs": [
    {
     "data": {
      "text/plain": [
       "<AxesSubplot:xlabel='Purchased_ABC_product', ylabel='count'>"
      ]
     },
     "execution_count": 23,
     "metadata": {},
     "output_type": "execute_result"
    },
    {
     "data": {
      "image/png": "[encoded data removed]",
      "text/plain": [
       "<Figure size 432x288 with 1 Axes>"
      ]
     },
     "metadata": {
      "needs_background": "light"
     },
     "output_type": "display_data"
    }
   ],
   "source": [
    "sns.countplot(x=\"Purchased_ABC_product\",data=df)"
   ]
  },
  {
   "cell_type": "code",
   "execution_count": 41,
   "id": "5baf0c69",
   "metadata": {},
   "outputs": [
    {
     "data": {
      "text/plain": [
       "<AxesSubplot:xlabel='Var1'>"
      ]
     },
     "execution_count": 41,
     "metadata": {},
     "output_type": "execute_result"
    },
    {
     "data": {
      "image/png": "[encoded data removed]",
      "text/plain": [
       "<Figure size 432x288 with 1 Axes>"
      ]
     },
     "metadata": {
      "needs_background": "light"
     },
     "output_type": "display_data"
    }
   ],
   "source": [
    "sns.boxplot(x=\"Var1\",data=df)"
   ]
  },
  {
   "cell_type": "code",
   "execution_count": 35,
   "id": "a9e2d2f9",
   "metadata": {},
   "outputs": [
    {
     "data": {
      "text/plain": [
       "<AxesSubplot:ylabel='Var2'>"
      ]
     },
     "execution_count": 35,
     "metadata": {},
     "output_type": "execute_result"
    },
    {
     "data": {
      "image/png": "[encoded data removed]",
      "text/plain": [
       "<Figure size 432x288 with 1 Axes>"
      ]
     },
     "metadata": {
      "needs_background": "light"
     },
     "output_type": "display_data"
    }
   ],
   "source": [
    "sns.boxplot(y=\"Var2\",data=df)"
   ]
  },
  {
   "cell_type": "code",
   "execution_count": 40,
   "id": "843b425e",
   "metadata": {},
   "outputs": [
    {
     "data": {
      "text/plain": [
       "<seaborn.axisgrid.JointGrid at 0x2549237ce20>"
      ]
     },
     "execution_count": 40,
     "metadata": {},
     "output_type": "execute_result"
    },
    {
     "data": {
      "image/png": "[encoded data removed]",
      "text/plain": [
       "<Figure size 432x432 with 3 Axes>"
      ]
     },
     "metadata": {
      "needs_background": "light"
     },
     "output_type": "display_data"
    }
   ],
   "source": [
    "sns.jointplot(x=\"Var1\",y=\"Purchased_ABC_product\",data=df)"
   ]
  },
  {
   "cell_type": "code",
   "execution_count": 34,
   "id": "f62fdfba",
   "metadata": {},
   "outputs": [
    {
     "data": {
      "text/plain": [
       "<seaborn.axisgrid.JointGrid at 0x254907be760>"
      ]
     },
     "execution_count": 34,
     "metadata": {},
     "output_type": "execute_result"
    },
    {
     "data": {
      "image/png": "[encoded data removed]",
      "text/plain": [
       "<Figure size 432x432 with 3 Axes>"
      ]
     },
     "metadata": {
      "needs_background": "light"
     },
     "output_type": "display_data"
    }
   ],
   "source": [
    "sns.jointplot(x=\"Var2\",y=\"Purchased_ABC_product\",data=df)"
   ]
  },
  {
   "cell_type": "code",
   "execution_count": 15,
   "id": "50554475",
   "metadata": {},
   "outputs": [
    {
     "data": {
      "text/plain": [
       "229.4234"
      ]
     },
     "execution_count": 15,
     "metadata": {},
     "output_type": "execute_result"
    }
   ],
   "source": [
    "#OUTLIERS TREATMENT\n",
    "np.percentile(df.Var1,[95])[0]"
   ]
  },
  {
   "cell_type": "code",
   "execution_count": 31,
   "id": "25b6893d",
   "metadata": {},
   "outputs": [
    {
     "data": {
      "text/plain": [
       "18.720999999999993"
      ]
     },
     "execution_count": 31,
     "metadata": {},
     "output_type": "execute_result"
    }
   ],
   "source": [
    "np.percentile(df.Var2,[95])[0]"
   ]
  },
  {
   "cell_type": "code",
   "execution_count": 30,
   "id": "776408b0",
   "metadata": {},
   "outputs": [],
   "source": [
    "ul=np.percentile(df.Var2,[95])[0]"
   ]
  },
  {
   "cell_type": "code",
   "execution_count": null,
   "id": "67ba24be",
   "metadata": {},
   "outputs": [],
   "source": []
  },
  {
   "cell_type": "code",
   "execution_count": 36,
   "id": "68031149",
   "metadata": {},
   "outputs": [],
   "source": [
    "uv=np.percentile(df.Var1,[90])[0]"
   ]
  },
  {
   "cell_type": "code",
   "execution_count": 37,
   "id": "51bb5fee",
   "metadata": {
    "scrolled": true
   },
   "outputs": [
    {
     "data": {
      "text/html": [
       "<div>\n",
       "<style scoped>\n",
       "    .dataframe tbody tr th:only-of-type {\n",
       "        vertical-align: middle;\n",
       "    }\n",
       "\n",
       "    .dataframe tbody tr th {\n",
       "        vertical-align: top;\n",
       "    }\n",
       "\n",
       "    .dataframe thead th {\n",
       "        text-align: right;\n",
       "    }\n",
       "</style>\n",
       "<table border=\"1\" class=\"dataframe\">\n",
       "  <thead>\n",
       "    <tr style=\"text-align: right;\">\n",
       "      <th></th>\n",
       "      <th>Customer_ID</th>\n",
       "      <th>Var1</th>\n",
       "      <th>Var2</th>\n",
       "      <th>Group</th>\n",
       "      <th>Category</th>\n",
       "      <th>Rating</th>\n",
       "      <th>Purchased_ABC_product</th>\n",
       "    </tr>\n",
       "  </thead>\n",
       "  <tbody>\n",
       "    <tr>\n",
       "      <th>23</th>\n",
       "      <td>749060</td>\n",
       "      <td>185.1790</td>\n",
       "      <td>10.222</td>\n",
       "      <td>G1</td>\n",
       "      <td>C2</td>\n",
       "      <td>Gold</td>\n",
       "      <td>1</td>\n",
       "    </tr>\n",
       "    <tr>\n",
       "      <th>33</th>\n",
       "      <td>833226</td>\n",
       "      <td>229.4234</td>\n",
       "      <td>16.352</td>\n",
       "      <td>G3</td>\n",
       "      <td>C1</td>\n",
       "      <td>Gold</td>\n",
       "      <td>1</td>\n",
       "    </tr>\n",
       "    <tr>\n",
       "      <th>37</th>\n",
       "      <td>1229151</td>\n",
       "      <td>163.9870</td>\n",
       "      <td>7.071</td>\n",
       "      <td>G1</td>\n",
       "      <td>C2</td>\n",
       "      <td>Gold</td>\n",
       "      <td>1</td>\n",
       "    </tr>\n",
       "    <tr>\n",
       "      <th>44</th>\n",
       "      <td>1348404</td>\n",
       "      <td>193.8520</td>\n",
       "      <td>18.721</td>\n",
       "      <td>G1</td>\n",
       "      <td>C5</td>\n",
       "      <td>Silver</td>\n",
       "      <td>1</td>\n",
       "    </tr>\n",
       "    <tr>\n",
       "      <th>67</th>\n",
       "      <td>1914816</td>\n",
       "      <td>229.4234</td>\n",
       "      <td>10.561</td>\n",
       "      <td>G3</td>\n",
       "      <td>C2</td>\n",
       "      <td>Gold</td>\n",
       "      <td>1</td>\n",
       "    </tr>\n",
       "    <tr>\n",
       "      <th>...</th>\n",
       "      <td>...</td>\n",
       "      <td>...</td>\n",
       "      <td>...</td>\n",
       "      <td>...</td>\n",
       "      <td>...</td>\n",
       "      <td>...</td>\n",
       "      <td>...</td>\n",
       "    </tr>\n",
       "    <tr>\n",
       "      <th>30774</th>\n",
       "      <td>4460014</td>\n",
       "      <td>140.9450</td>\n",
       "      <td>11.152</td>\n",
       "      <td>G1</td>\n",
       "      <td>C2</td>\n",
       "      <td>Gold</td>\n",
       "      <td>1</td>\n",
       "    </tr>\n",
       "    <tr>\n",
       "      <th>30789</th>\n",
       "      <td>5439262</td>\n",
       "      <td>228.7420</td>\n",
       "      <td>10.614</td>\n",
       "      <td>G1</td>\n",
       "      <td>C1</td>\n",
       "      <td>Silver</td>\n",
       "      <td>1</td>\n",
       "    </tr>\n",
       "    <tr>\n",
       "      <th>30799</th>\n",
       "      <td>6491837</td>\n",
       "      <td>144.3830</td>\n",
       "      <td>6.202</td>\n",
       "      <td>G5</td>\n",
       "      <td>C2</td>\n",
       "      <td>Gold</td>\n",
       "      <td>1</td>\n",
       "    </tr>\n",
       "    <tr>\n",
       "      <th>30801</th>\n",
       "      <td>6547521</td>\n",
       "      <td>229.4234</td>\n",
       "      <td>18.721</td>\n",
       "      <td>G3</td>\n",
       "      <td>C2</td>\n",
       "      <td>Gold</td>\n",
       "      <td>1</td>\n",
       "    </tr>\n",
       "    <tr>\n",
       "      <th>30810</th>\n",
       "      <td>6693755</td>\n",
       "      <td>161.3650</td>\n",
       "      <td>18.721</td>\n",
       "      <td>G3</td>\n",
       "      <td>C2</td>\n",
       "      <td>Gold</td>\n",
       "      <td>1</td>\n",
       "    </tr>\n",
       "  </tbody>\n",
       "</table>\n",
       "<p>3083 rows × 7 columns</p>\n",
       "</div>"
      ],
      "text/plain": [
       "       Customer_ID      Var1    Var2 Group Category  Rating  \\\n",
       "23          749060  185.1790  10.222    G1       C2    Gold   \n",
       "33          833226  229.4234  16.352    G3       C1    Gold   \n",
       "37         1229151  163.9870   7.071    G1       C2    Gold   \n",
       "44         1348404  193.8520  18.721    G1       C5  Silver   \n",
       "67         1914816  229.4234  10.561    G3       C2    Gold   \n",
       "...            ...       ...     ...   ...      ...     ...   \n",
       "30774      4460014  140.9450  11.152    G1       C2    Gold   \n",
       "30789      5439262  228.7420  10.614    G1       C1  Silver   \n",
       "30799      6491837  144.3830   6.202    G5       C2    Gold   \n",
       "30801      6547521  229.4234  18.721    G3       C2    Gold   \n",
       "30810      6693755  161.3650  18.721    G3       C2    Gold   \n",
       "\n",
       "       Purchased_ABC_product  \n",
       "23                         1  \n",
       "33                         1  \n",
       "37                         1  \n",
       "44                         1  \n",
       "67                         1  \n",
       "...                      ...  \n",
       "30774                      1  \n",
       "30789                      1  \n",
       "30799                      1  \n",
       "30801                      1  \n",
       "30810                      1  \n",
       "\n",
       "[3083 rows x 7 columns]"
      ]
     },
     "execution_count": 37,
     "metadata": {},
     "output_type": "execute_result"
    }
   ],
   "source": [
    "df[df.Var1>uv]"
   ]
  },
  {
   "cell_type": "code",
   "execution_count": 32,
   "id": "f46541cb",
   "metadata": {},
   "outputs": [
    {
     "name": "stderr",
     "output_type": "stream",
     "text": [
      "C:\\Users\\shaik\\AppData\\Local\\Temp/ipykernel_12804/3699292660.py:1: SettingWithCopyWarning: \n",
      "A value is trying to be set on a copy of a slice from a DataFrame\n",
      "\n",
      "See the caveats in the documentation: https://pandas.pydata.org/pandas-docs/stable/user_guide/indexing.html#returning-a-view-versus-a-copy\n",
      "  df.Var2[df.Var2>ul]=ul\n"
     ]
    }
   ],
   "source": [
    "df.Var2[df.Var2>ul]=ul"
   ]
  },
  {
   "cell_type": "code",
   "execution_count": 38,
   "id": "0c3e9b13",
   "metadata": {},
   "outputs": [
    {
     "name": "stderr",
     "output_type": "stream",
     "text": [
      "C:\\Users\\shaik\\AppData\\Local\\Temp/ipykernel_12804/1722700663.py:1: SettingWithCopyWarning: \n",
      "A value is trying to be set on a copy of a slice from a DataFrame\n",
      "\n",
      "See the caveats in the documentation: https://pandas.pydata.org/pandas-docs/stable/user_guide/indexing.html#returning-a-view-versus-a-copy\n",
      "  df.Var1[df.Var1>uv]=uv\n"
     ]
    }
   ],
   "source": [
    "df.Var1[df.Var1>uv]=uv"
   ]
  },
  {
   "cell_type": "code",
   "execution_count": null,
   "id": "7afd4721",
   "metadata": {},
   "outputs": [],
   "source": []
  },
  {
   "cell_type": "code",
   "execution_count": 43,
   "id": "f854e913",
   "metadata": {},
   "outputs": [],
   "source": [
    "#INTRODUCING DUMMIES\n",
    "df=pd.get_dummies(df)"
   ]
  },
  {
   "cell_type": "code",
   "execution_count": 44,
   "id": "fc6109db",
   "metadata": {},
   "outputs": [
    {
     "data": {
      "text/html": [
       "<div>\n",
       "<style scoped>\n",
       "    .dataframe tbody tr th:only-of-type {\n",
       "        vertical-align: middle;\n",
       "    }\n",
       "\n",
       "    .dataframe tbody tr th {\n",
       "        vertical-align: top;\n",
       "    }\n",
       "\n",
       "    .dataframe thead th {\n",
       "        text-align: right;\n",
       "    }\n",
       "</style>\n",
       "<table border=\"1\" class=\"dataframe\">\n",
       "  <thead>\n",
       "    <tr style=\"text-align: right;\">\n",
       "      <th></th>\n",
       "      <th>Customer_ID</th>\n",
       "      <th>Var1</th>\n",
       "      <th>Var2</th>\n",
       "      <th>Purchased_ABC_product</th>\n",
       "      <th>Group_G1</th>\n",
       "      <th>Group_G2</th>\n",
       "      <th>Group_G3</th>\n",
       "      <th>Group_G4</th>\n",
       "      <th>Group_G5</th>\n",
       "      <th>Group_G6</th>\n",
       "      <th>Group_G7</th>\n",
       "      <th>Group_G8</th>\n",
       "      <th>Category_C1</th>\n",
       "      <th>Category_C2</th>\n",
       "      <th>Category_C3</th>\n",
       "      <th>Category_C4</th>\n",
       "      <th>Category_C5</th>\n",
       "      <th>Rating_Bronze</th>\n",
       "      <th>Rating_Gold</th>\n",
       "      <th>Rating_Silver</th>\n",
       "    </tr>\n",
       "  </thead>\n",
       "  <tbody>\n",
       "    <tr>\n",
       "      <th>0</th>\n",
       "      <td>5518</td>\n",
       "      <td>41.534</td>\n",
       "      <td>12.123</td>\n",
       "      <td>0</td>\n",
       "      <td>1</td>\n",
       "      <td>0</td>\n",
       "      <td>0</td>\n",
       "      <td>0</td>\n",
       "      <td>0</td>\n",
       "      <td>0</td>\n",
       "      <td>0</td>\n",
       "      <td>0</td>\n",
       "      <td>1</td>\n",
       "      <td>0</td>\n",
       "      <td>0</td>\n",
       "      <td>0</td>\n",
       "      <td>0</td>\n",
       "      <td>1</td>\n",
       "      <td>0</td>\n",
       "      <td>0</td>\n",
       "    </tr>\n",
       "    <tr>\n",
       "      <th>1</th>\n",
       "      <td>40515</td>\n",
       "      <td>9.445</td>\n",
       "      <td>0.256</td>\n",
       "      <td>0</td>\n",
       "      <td>1</td>\n",
       "      <td>0</td>\n",
       "      <td>0</td>\n",
       "      <td>0</td>\n",
       "      <td>0</td>\n",
       "      <td>0</td>\n",
       "      <td>0</td>\n",
       "      <td>0</td>\n",
       "      <td>1</td>\n",
       "      <td>0</td>\n",
       "      <td>0</td>\n",
       "      <td>0</td>\n",
       "      <td>0</td>\n",
       "      <td>1</td>\n",
       "      <td>0</td>\n",
       "      <td>0</td>\n",
       "    </tr>\n",
       "    <tr>\n",
       "      <th>2</th>\n",
       "      <td>52697</td>\n",
       "      <td>37.599</td>\n",
       "      <td>3.199</td>\n",
       "      <td>0</td>\n",
       "      <td>1</td>\n",
       "      <td>0</td>\n",
       "      <td>0</td>\n",
       "      <td>0</td>\n",
       "      <td>0</td>\n",
       "      <td>0</td>\n",
       "      <td>0</td>\n",
       "      <td>0</td>\n",
       "      <td>0</td>\n",
       "      <td>1</td>\n",
       "      <td>0</td>\n",
       "      <td>0</td>\n",
       "      <td>0</td>\n",
       "      <td>0</td>\n",
       "      <td>1</td>\n",
       "      <td>0</td>\n",
       "    </tr>\n",
       "    <tr>\n",
       "      <th>3</th>\n",
       "      <td>68202</td>\n",
       "      <td>81.514</td>\n",
       "      <td>1.645</td>\n",
       "      <td>0</td>\n",
       "      <td>1</td>\n",
       "      <td>0</td>\n",
       "      <td>0</td>\n",
       "      <td>0</td>\n",
       "      <td>0</td>\n",
       "      <td>0</td>\n",
       "      <td>0</td>\n",
       "      <td>0</td>\n",
       "      <td>1</td>\n",
       "      <td>0</td>\n",
       "      <td>0</td>\n",
       "      <td>0</td>\n",
       "      <td>0</td>\n",
       "      <td>0</td>\n",
       "      <td>0</td>\n",
       "      <td>1</td>\n",
       "    </tr>\n",
       "    <tr>\n",
       "      <th>4</th>\n",
       "      <td>130003</td>\n",
       "      <td>46.805</td>\n",
       "      <td>1.706</td>\n",
       "      <td>0</td>\n",
       "      <td>1</td>\n",
       "      <td>0</td>\n",
       "      <td>0</td>\n",
       "      <td>0</td>\n",
       "      <td>0</td>\n",
       "      <td>0</td>\n",
       "      <td>0</td>\n",
       "      <td>0</td>\n",
       "      <td>1</td>\n",
       "      <td>0</td>\n",
       "      <td>0</td>\n",
       "      <td>0</td>\n",
       "      <td>0</td>\n",
       "      <td>0</td>\n",
       "      <td>0</td>\n",
       "      <td>1</td>\n",
       "    </tr>\n",
       "  </tbody>\n",
       "</table>\n",
       "</div>"
      ],
      "text/plain": [
       "   Customer_ID    Var1    Var2  Purchased_ABC_product  Group_G1  Group_G2  \\\n",
       "0         5518  41.534  12.123                      0         1         0   \n",
       "1        40515   9.445   0.256                      0         1         0   \n",
       "2        52697  37.599   3.199                      0         1         0   \n",
       "3        68202  81.514   1.645                      0         1         0   \n",
       "4       130003  46.805   1.706                      0         1         0   \n",
       "\n",
       "   Group_G3  Group_G4  Group_G5  Group_G6  Group_G7  Group_G8  Category_C1  \\\n",
       "0         0         0         0         0         0         0            1   \n",
       "1         0         0         0         0         0         0            1   \n",
       "2         0         0         0         0         0         0            0   \n",
       "3         0         0         0         0         0         0            1   \n",
       "4         0         0         0         0         0         0            1   \n",
       "\n",
       "   Category_C2  Category_C3  Category_C4  Category_C5  Rating_Bronze  \\\n",
       "0            0            0            0            0              1   \n",
       "1            0            0            0            0              1   \n",
       "2            1            0            0            0              0   \n",
       "3            0            0            0            0              0   \n",
       "4            0            0            0            0              0   \n",
       "\n",
       "   Rating_Gold  Rating_Silver  \n",
       "0            0              0  \n",
       "1            0              0  \n",
       "2            1              0  \n",
       "3            0              1  \n",
       "4            0              1  "
      ]
     },
     "execution_count": 44,
     "metadata": {},
     "output_type": "execute_result"
    }
   ],
   "source": [
    "df.head()"
   ]
  },
  {
   "cell_type": "code",
   "execution_count": 99,
   "id": "c3589134",
   "metadata": {},
   "outputs": [
    {
     "ename": "KeyError",
     "evalue": "'Category_C5'",
     "output_type": "error",
     "traceback": [
      "\u001b[1;31m---------------------------------------------------------------------------\u001b[0m",
      "\u001b[1;31mKeyError\u001b[0m                                  Traceback (most recent call last)",
      "\u001b[1;32m~\\anaconda3\\lib\\site-packages\\pandas\\core\\indexes\\base.py\u001b[0m in \u001b[0;36mget_loc\u001b[1;34m(self, key, method, tolerance)\u001b[0m\n\u001b[0;32m   3360\u001b[0m             \u001b[1;32mtry\u001b[0m\u001b[1;33m:\u001b[0m\u001b[1;33m\u001b[0m\u001b[1;33m\u001b[0m\u001b[0m\n\u001b[1;32m-> 3361\u001b[1;33m                 \u001b[1;32mreturn\u001b[0m \u001b[0mself\u001b[0m\u001b[1;33m.\u001b[0m\u001b[0m_engine\u001b[0m\u001b[1;33m.\u001b[0m\u001b[0mget_loc\u001b[0m\u001b[1;33m(\u001b[0m\u001b[0mcasted_key\u001b[0m\u001b[1;33m)\u001b[0m\u001b[1;33m\u001b[0m\u001b[1;33m\u001b[0m\u001b[0m\n\u001b[0m\u001b[0;32m   3362\u001b[0m             \u001b[1;32mexcept\u001b[0m \u001b[0mKeyError\u001b[0m \u001b[1;32mas\u001b[0m \u001b[0merr\u001b[0m\u001b[1;33m:\u001b[0m\u001b[1;33m\u001b[0m\u001b[1;33m\u001b[0m\u001b[0m\n",
      "\u001b[1;32m~\\anaconda3\\lib\\site-packages\\pandas\\_libs\\index.pyx\u001b[0m in \u001b[0;36mpandas._libs.index.IndexEngine.get_loc\u001b[1;34m()\u001b[0m\n",
      "\u001b[1;32m~\\anaconda3\\lib\\site-packages\\pandas\\_libs\\index.pyx\u001b[0m in \u001b[0;36mpandas._libs.index.IndexEngine.get_loc\u001b[1;34m()\u001b[0m\n",
      "\u001b[1;32mpandas\\_libs\\hashtable_class_helper.pxi\u001b[0m in \u001b[0;36mpandas._libs.hashtable.PyObjectHashTable.get_item\u001b[1;34m()\u001b[0m\n",
      "\u001b[1;32mpandas\\_libs\\hashtable_class_helper.pxi\u001b[0m in \u001b[0;36mpandas._libs.hashtable.PyObjectHashTable.get_item\u001b[1;34m()\u001b[0m\n",
      "\u001b[1;31mKeyError\u001b[0m: 'Category_C5'",
      "\nThe above exception was the direct cause of the following exception:\n",
      "\u001b[1;31mKeyError\u001b[0m                                  Traceback (most recent call last)",
      "\u001b[1;32m~\\AppData\\Local\\Temp/ipykernel_12804/4107658067.py\u001b[0m in \u001b[0;36m<module>\u001b[1;34m\u001b[0m\n\u001b[0;32m      1\u001b[0m \u001b[1;31m# DELETING NON-USABLE VARIABLES\u001b[0m\u001b[1;33m\u001b[0m\u001b[1;33m\u001b[0m\u001b[0m\n\u001b[1;32m----> 2\u001b[1;33m \u001b[1;32mdel\u001b[0m \u001b[0mdf\u001b[0m\u001b[1;33m[\u001b[0m\u001b[1;34m'Category_C5'\u001b[0m\u001b[1;33m]\u001b[0m\u001b[1;33m\u001b[0m\u001b[1;33m\u001b[0m\u001b[0m\n\u001b[0m",
      "\u001b[1;32m~\\anaconda3\\lib\\site-packages\\pandas\\core\\generic.py\u001b[0m in \u001b[0;36m__delitem__\u001b[1;34m(self, key)\u001b[0m\n\u001b[0;32m   3961\u001b[0m             \u001b[1;31m# there was no match, this call should raise the appropriate\u001b[0m\u001b[1;33m\u001b[0m\u001b[1;33m\u001b[0m\u001b[0m\n\u001b[0;32m   3962\u001b[0m             \u001b[1;31m# exception:\u001b[0m\u001b[1;33m\u001b[0m\u001b[1;33m\u001b[0m\u001b[0m\n\u001b[1;32m-> 3963\u001b[1;33m             \u001b[0mloc\u001b[0m \u001b[1;33m=\u001b[0m \u001b[0mself\u001b[0m\u001b[1;33m.\u001b[0m\u001b[0maxes\u001b[0m\u001b[1;33m[\u001b[0m\u001b[1;33m-\u001b[0m\u001b[1;36m1\u001b[0m\u001b[1;33m]\u001b[0m\u001b[1;33m.\u001b[0m\u001b[0mget_loc\u001b[0m\u001b[1;33m(\u001b[0m\u001b[0mkey\u001b[0m\u001b[1;33m)\u001b[0m\u001b[1;33m\u001b[0m\u001b[1;33m\u001b[0m\u001b[0m\n\u001b[0m\u001b[0;32m   3964\u001b[0m             \u001b[0mself\u001b[0m\u001b[1;33m.\u001b[0m\u001b[0m_mgr\u001b[0m \u001b[1;33m=\u001b[0m \u001b[0mself\u001b[0m\u001b[1;33m.\u001b[0m\u001b[0m_mgr\u001b[0m\u001b[1;33m.\u001b[0m\u001b[0midelete\u001b[0m\u001b[1;33m(\u001b[0m\u001b[0mloc\u001b[0m\u001b[1;33m)\u001b[0m\u001b[1;33m\u001b[0m\u001b[1;33m\u001b[0m\u001b[0m\n\u001b[0;32m   3965\u001b[0m \u001b[1;33m\u001b[0m\u001b[0m\n",
      "\u001b[1;32m~\\anaconda3\\lib\\site-packages\\pandas\\core\\indexes\\base.py\u001b[0m in \u001b[0;36mget_loc\u001b[1;34m(self, key, method, tolerance)\u001b[0m\n\u001b[0;32m   3361\u001b[0m                 \u001b[1;32mreturn\u001b[0m \u001b[0mself\u001b[0m\u001b[1;33m.\u001b[0m\u001b[0m_engine\u001b[0m\u001b[1;33m.\u001b[0m\u001b[0mget_loc\u001b[0m\u001b[1;33m(\u001b[0m\u001b[0mcasted_key\u001b[0m\u001b[1;33m)\u001b[0m\u001b[1;33m\u001b[0m\u001b[1;33m\u001b[0m\u001b[0m\n\u001b[0;32m   3362\u001b[0m             \u001b[1;32mexcept\u001b[0m \u001b[0mKeyError\u001b[0m \u001b[1;32mas\u001b[0m \u001b[0merr\u001b[0m\u001b[1;33m:\u001b[0m\u001b[1;33m\u001b[0m\u001b[1;33m\u001b[0m\u001b[0m\n\u001b[1;32m-> 3363\u001b[1;33m                 \u001b[1;32mraise\u001b[0m \u001b[0mKeyError\u001b[0m\u001b[1;33m(\u001b[0m\u001b[0mkey\u001b[0m\u001b[1;33m)\u001b[0m \u001b[1;32mfrom\u001b[0m \u001b[0merr\u001b[0m\u001b[1;33m\u001b[0m\u001b[1;33m\u001b[0m\u001b[0m\n\u001b[0m\u001b[0;32m   3364\u001b[0m \u001b[1;33m\u001b[0m\u001b[0m\n\u001b[0;32m   3365\u001b[0m         \u001b[1;32mif\u001b[0m \u001b[0mis_scalar\u001b[0m\u001b[1;33m(\u001b[0m\u001b[0mkey\u001b[0m\u001b[1;33m)\u001b[0m \u001b[1;32mand\u001b[0m \u001b[0misna\u001b[0m\u001b[1;33m(\u001b[0m\u001b[0mkey\u001b[0m\u001b[1;33m)\u001b[0m \u001b[1;32mand\u001b[0m \u001b[1;32mnot\u001b[0m \u001b[0mself\u001b[0m\u001b[1;33m.\u001b[0m\u001b[0mhasnans\u001b[0m\u001b[1;33m:\u001b[0m\u001b[1;33m\u001b[0m\u001b[1;33m\u001b[0m\u001b[0m\n",
      "\u001b[1;31mKeyError\u001b[0m: 'Category_C5'"
     ]
    }
   ],
   "source": [
    "# DELETING NON-USABLE VARIABLES\n",
    "del df['Category_C5']"
   ]
  },
  {
   "cell_type": "code",
   "execution_count": 46,
   "id": "a10b024c",
   "metadata": {},
   "outputs": [],
   "source": [
    "del df['Group_G8']"
   ]
  },
  {
   "cell_type": "code",
   "execution_count": 49,
   "id": "277d4d36",
   "metadata": {},
   "outputs": [],
   "source": [
    "del df['Customer_ID']"
   ]
  },
  {
   "cell_type": "code",
   "execution_count": 50,
   "id": "93ccc8c7",
   "metadata": {},
   "outputs": [
    {
     "data": {
      "text/html": [
       "<div>\n",
       "<style scoped>\n",
       "    .dataframe tbody tr th:only-of-type {\n",
       "        vertical-align: middle;\n",
       "    }\n",
       "\n",
       "    .dataframe tbody tr th {\n",
       "        vertical-align: top;\n",
       "    }\n",
       "\n",
       "    .dataframe thead th {\n",
       "        text-align: right;\n",
       "    }\n",
       "</style>\n",
       "<table border=\"1\" class=\"dataframe\">\n",
       "  <thead>\n",
       "    <tr style=\"text-align: right;\">\n",
       "      <th></th>\n",
       "      <th>Var1</th>\n",
       "      <th>Var2</th>\n",
       "      <th>Purchased_ABC_product</th>\n",
       "      <th>Group_G1</th>\n",
       "      <th>Group_G2</th>\n",
       "      <th>Group_G3</th>\n",
       "      <th>Group_G4</th>\n",
       "      <th>Group_G5</th>\n",
       "      <th>Group_G6</th>\n",
       "      <th>Group_G7</th>\n",
       "      <th>Category_C1</th>\n",
       "      <th>Category_C2</th>\n",
       "      <th>Category_C3</th>\n",
       "      <th>Category_C4</th>\n",
       "      <th>Rating_Bronze</th>\n",
       "      <th>Rating_Gold</th>\n",
       "      <th>Rating_Silver</th>\n",
       "    </tr>\n",
       "  </thead>\n",
       "  <tbody>\n",
       "    <tr>\n",
       "      <th>0</th>\n",
       "      <td>41.534</td>\n",
       "      <td>12.123</td>\n",
       "      <td>0</td>\n",
       "      <td>1</td>\n",
       "      <td>0</td>\n",
       "      <td>0</td>\n",
       "      <td>0</td>\n",
       "      <td>0</td>\n",
       "      <td>0</td>\n",
       "      <td>0</td>\n",
       "      <td>1</td>\n",
       "      <td>0</td>\n",
       "      <td>0</td>\n",
       "      <td>0</td>\n",
       "      <td>1</td>\n",
       "      <td>0</td>\n",
       "      <td>0</td>\n",
       "    </tr>\n",
       "    <tr>\n",
       "      <th>1</th>\n",
       "      <td>9.445</td>\n",
       "      <td>0.256</td>\n",
       "      <td>0</td>\n",
       "      <td>1</td>\n",
       "      <td>0</td>\n",
       "      <td>0</td>\n",
       "      <td>0</td>\n",
       "      <td>0</td>\n",
       "      <td>0</td>\n",
       "      <td>0</td>\n",
       "      <td>1</td>\n",
       "      <td>0</td>\n",
       "      <td>0</td>\n",
       "      <td>0</td>\n",
       "      <td>1</td>\n",
       "      <td>0</td>\n",
       "      <td>0</td>\n",
       "    </tr>\n",
       "    <tr>\n",
       "      <th>2</th>\n",
       "      <td>37.599</td>\n",
       "      <td>3.199</td>\n",
       "      <td>0</td>\n",
       "      <td>1</td>\n",
       "      <td>0</td>\n",
       "      <td>0</td>\n",
       "      <td>0</td>\n",
       "      <td>0</td>\n",
       "      <td>0</td>\n",
       "      <td>0</td>\n",
       "      <td>0</td>\n",
       "      <td>1</td>\n",
       "      <td>0</td>\n",
       "      <td>0</td>\n",
       "      <td>0</td>\n",
       "      <td>1</td>\n",
       "      <td>0</td>\n",
       "    </tr>\n",
       "    <tr>\n",
       "      <th>3</th>\n",
       "      <td>81.514</td>\n",
       "      <td>1.645</td>\n",
       "      <td>0</td>\n",
       "      <td>1</td>\n",
       "      <td>0</td>\n",
       "      <td>0</td>\n",
       "      <td>0</td>\n",
       "      <td>0</td>\n",
       "      <td>0</td>\n",
       "      <td>0</td>\n",
       "      <td>1</td>\n",
       "      <td>0</td>\n",
       "      <td>0</td>\n",
       "      <td>0</td>\n",
       "      <td>0</td>\n",
       "      <td>0</td>\n",
       "      <td>1</td>\n",
       "    </tr>\n",
       "    <tr>\n",
       "      <th>4</th>\n",
       "      <td>46.805</td>\n",
       "      <td>1.706</td>\n",
       "      <td>0</td>\n",
       "      <td>1</td>\n",
       "      <td>0</td>\n",
       "      <td>0</td>\n",
       "      <td>0</td>\n",
       "      <td>0</td>\n",
       "      <td>0</td>\n",
       "      <td>0</td>\n",
       "      <td>1</td>\n",
       "      <td>0</td>\n",
       "      <td>0</td>\n",
       "      <td>0</td>\n",
       "      <td>0</td>\n",
       "      <td>0</td>\n",
       "      <td>1</td>\n",
       "    </tr>\n",
       "  </tbody>\n",
       "</table>\n",
       "</div>"
      ],
      "text/plain": [
       "     Var1    Var2  Purchased_ABC_product  Group_G1  Group_G2  Group_G3  \\\n",
       "0  41.534  12.123                      0         1         0         0   \n",
       "1   9.445   0.256                      0         1         0         0   \n",
       "2  37.599   3.199                      0         1         0         0   \n",
       "3  81.514   1.645                      0         1         0         0   \n",
       "4  46.805   1.706                      0         1         0         0   \n",
       "\n",
       "   Group_G4  Group_G5  Group_G6  Group_G7  Category_C1  Category_C2  \\\n",
       "0         0         0         0         0            1            0   \n",
       "1         0         0         0         0            1            0   \n",
       "2         0         0         0         0            0            1   \n",
       "3         0         0         0         0            1            0   \n",
       "4         0         0         0         0            1            0   \n",
       "\n",
       "   Category_C3  Category_C4  Rating_Bronze  Rating_Gold  Rating_Silver  \n",
       "0            0            0              1            0              0  \n",
       "1            0            0              1            0              0  \n",
       "2            0            0              0            1              0  \n",
       "3            0            0              0            0              1  \n",
       "4            0            0              0            0              1  "
      ]
     },
     "execution_count": 50,
     "metadata": {},
     "output_type": "execute_result"
    }
   ],
   "source": [
    "df.head()"
   ]
  },
  {
   "cell_type": "code",
   "execution_count": 98,
   "id": "f6b8cd0b",
   "metadata": {},
   "outputs": [
    {
     "data": {
      "text/html": [
       "<div>\n",
       "<style scoped>\n",
       "    .dataframe tbody tr th:only-of-type {\n",
       "        vertical-align: middle;\n",
       "    }\n",
       "\n",
       "    .dataframe tbody tr th {\n",
       "        vertical-align: top;\n",
       "    }\n",
       "\n",
       "    .dataframe thead th {\n",
       "        text-align: right;\n",
       "    }\n",
       "</style>\n",
       "<table border=\"1\" class=\"dataframe\">\n",
       "  <thead>\n",
       "    <tr style=\"text-align: right;\">\n",
       "      <th></th>\n",
       "      <th>Var1</th>\n",
       "      <th>Purchased_ABC_product</th>\n",
       "      <th>Group_G1</th>\n",
       "      <th>Group_G2</th>\n",
       "      <th>Group_G3</th>\n",
       "      <th>Group_G4</th>\n",
       "      <th>Group_G5</th>\n",
       "      <th>Group_G6</th>\n",
       "      <th>Group_G7</th>\n",
       "      <th>Category_C1</th>\n",
       "      <th>Category_C2</th>\n",
       "      <th>Category_C3</th>\n",
       "      <th>Category_C4</th>\n",
       "      <th>Rating_Bronze</th>\n",
       "      <th>Rating_Gold</th>\n",
       "      <th>Rating_Silver</th>\n",
       "    </tr>\n",
       "  </thead>\n",
       "  <tbody>\n",
       "    <tr>\n",
       "      <th>Var1</th>\n",
       "      <td>1.000000</td>\n",
       "      <td>0.455038</td>\n",
       "      <td>-0.057952</td>\n",
       "      <td>-0.053556</td>\n",
       "      <td>0.374250</td>\n",
       "      <td>-0.022113</td>\n",
       "      <td>-0.108587</td>\n",
       "      <td>-0.018079</td>\n",
       "      <td>0.002049</td>\n",
       "      <td>-0.344572</td>\n",
       "      <td>0.518138</td>\n",
       "      <td>-0.145368</td>\n",
       "      <td>-0.221089</td>\n",
       "      <td>-0.604718</td>\n",
       "      <td>0.687708</td>\n",
       "      <td>0.081748</td>\n",
       "    </tr>\n",
       "    <tr>\n",
       "      <th>Purchased_ABC_product</th>\n",
       "      <td>0.455038</td>\n",
       "      <td>1.000000</td>\n",
       "      <td>-0.069974</td>\n",
       "      <td>-0.034519</td>\n",
       "      <td>0.165655</td>\n",
       "      <td>-0.010723</td>\n",
       "      <td>0.003854</td>\n",
       "      <td>-0.014330</td>\n",
       "      <td>0.003544</td>\n",
       "      <td>-0.209266</td>\n",
       "      <td>0.213445</td>\n",
       "      <td>-0.054299</td>\n",
       "      <td>-0.105561</td>\n",
       "      <td>-0.337831</td>\n",
       "      <td>0.324612</td>\n",
       "      <td>0.094292</td>\n",
       "    </tr>\n",
       "    <tr>\n",
       "      <th>Group_G1</th>\n",
       "      <td>-0.057952</td>\n",
       "      <td>-0.069974</td>\n",
       "      <td>1.000000</td>\n",
       "      <td>-0.128404</td>\n",
       "      <td>-0.319995</td>\n",
       "      <td>-0.165856</td>\n",
       "      <td>-0.805670</td>\n",
       "      <td>-0.131416</td>\n",
       "      <td>-0.033933</td>\n",
       "      <td>0.092573</td>\n",
       "      <td>-0.028278</td>\n",
       "      <td>0.059709</td>\n",
       "      <td>-0.175570</td>\n",
       "      <td>-0.106989</td>\n",
       "      <td>-0.040801</td>\n",
       "      <td>0.147049</td>\n",
       "    </tr>\n",
       "    <tr>\n",
       "      <th>Group_G2</th>\n",
       "      <td>-0.053556</td>\n",
       "      <td>-0.034519</td>\n",
       "      <td>-0.128404</td>\n",
       "      <td>1.000000</td>\n",
       "      <td>-0.024324</td>\n",
       "      <td>-0.012608</td>\n",
       "      <td>-0.061243</td>\n",
       "      <td>-0.009990</td>\n",
       "      <td>-0.002579</td>\n",
       "      <td>-0.033405</td>\n",
       "      <td>-0.029467</td>\n",
       "      <td>-0.012721</td>\n",
       "      <td>0.140259</td>\n",
       "      <td>0.032349</td>\n",
       "      <td>-0.020274</td>\n",
       "      <td>-0.017850</td>\n",
       "    </tr>\n",
       "    <tr>\n",
       "      <th>Group_G3</th>\n",
       "      <td>0.374250</td>\n",
       "      <td>0.165655</td>\n",
       "      <td>-0.319995</td>\n",
       "      <td>-0.024324</td>\n",
       "      <td>1.000000</td>\n",
       "      <td>-0.031419</td>\n",
       "      <td>-0.152623</td>\n",
       "      <td>-0.024895</td>\n",
       "      <td>-0.006428</td>\n",
       "      <td>-0.173782</td>\n",
       "      <td>0.209978</td>\n",
       "      <td>-0.067170</td>\n",
       "      <td>-0.056709</td>\n",
       "      <td>-0.188551</td>\n",
       "      <td>0.373601</td>\n",
       "      <td>-0.104406</td>\n",
       "    </tr>\n",
       "    <tr>\n",
       "      <th>Group_G4</th>\n",
       "      <td>-0.022113</td>\n",
       "      <td>-0.010723</td>\n",
       "      <td>-0.165856</td>\n",
       "      <td>-0.012608</td>\n",
       "      <td>-0.031419</td>\n",
       "      <td>1.000000</td>\n",
       "      <td>-0.079106</td>\n",
       "      <td>-0.012903</td>\n",
       "      <td>-0.003332</td>\n",
       "      <td>0.012250</td>\n",
       "      <td>-0.014246</td>\n",
       "      <td>0.005966</td>\n",
       "      <td>-0.005739</td>\n",
       "      <td>0.029251</td>\n",
       "      <td>-0.025333</td>\n",
       "      <td>-0.010427</td>\n",
       "    </tr>\n",
       "    <tr>\n",
       "      <th>Group_G5</th>\n",
       "      <td>-0.108587</td>\n",
       "      <td>0.003854</td>\n",
       "      <td>-0.805670</td>\n",
       "      <td>-0.061243</td>\n",
       "      <td>-0.152623</td>\n",
       "      <td>-0.079106</td>\n",
       "      <td>1.000000</td>\n",
       "      <td>-0.062679</td>\n",
       "      <td>-0.016184</td>\n",
       "      <td>-0.007481</td>\n",
       "      <td>-0.064669</td>\n",
       "      <td>-0.031221</td>\n",
       "      <td>0.189478</td>\n",
       "      <td>0.193840</td>\n",
       "      <td>-0.130897</td>\n",
       "      <td>-0.099278</td>\n",
       "    </tr>\n",
       "    <tr>\n",
       "      <th>Group_G6</th>\n",
       "      <td>-0.018079</td>\n",
       "      <td>-0.014330</td>\n",
       "      <td>-0.131416</td>\n",
       "      <td>-0.009990</td>\n",
       "      <td>-0.024895</td>\n",
       "      <td>-0.012903</td>\n",
       "      <td>-0.062679</td>\n",
       "      <td>1.000000</td>\n",
       "      <td>-0.002640</td>\n",
       "      <td>0.012881</td>\n",
       "      <td>-0.010377</td>\n",
       "      <td>0.008737</td>\n",
       "      <td>-0.007485</td>\n",
       "      <td>0.010314</td>\n",
       "      <td>-0.029541</td>\n",
       "      <td>0.013142</td>\n",
       "    </tr>\n",
       "    <tr>\n",
       "      <th>Group_G7</th>\n",
       "      <td>0.002049</td>\n",
       "      <td>0.003544</td>\n",
       "      <td>-0.033933</td>\n",
       "      <td>-0.002579</td>\n",
       "      <td>-0.006428</td>\n",
       "      <td>-0.003332</td>\n",
       "      <td>-0.016184</td>\n",
       "      <td>-0.002640</td>\n",
       "      <td>1.000000</td>\n",
       "      <td>-0.005405</td>\n",
       "      <td>-0.006438</td>\n",
       "      <td>0.004313</td>\n",
       "      <td>-0.007173</td>\n",
       "      <td>0.006704</td>\n",
       "      <td>0.000753</td>\n",
       "      <td>-0.007743</td>\n",
       "    </tr>\n",
       "    <tr>\n",
       "      <th>Category_C1</th>\n",
       "      <td>-0.344572</td>\n",
       "      <td>-0.209266</td>\n",
       "      <td>0.092573</td>\n",
       "      <td>-0.033405</td>\n",
       "      <td>-0.173782</td>\n",
       "      <td>0.012250</td>\n",
       "      <td>-0.007481</td>\n",
       "      <td>0.012881</td>\n",
       "      <td>-0.005405</td>\n",
       "      <td>1.000000</td>\n",
       "      <td>-0.375935</td>\n",
       "      <td>-0.511111</td>\n",
       "      <td>-0.266324</td>\n",
       "      <td>0.261520</td>\n",
       "      <td>-0.315025</td>\n",
       "      <td>-0.020979</td>\n",
       "    </tr>\n",
       "    <tr>\n",
       "      <th>Category_C2</th>\n",
       "      <td>0.518138</td>\n",
       "      <td>0.213445</td>\n",
       "      <td>-0.028278</td>\n",
       "      <td>-0.029467</td>\n",
       "      <td>0.209978</td>\n",
       "      <td>-0.014246</td>\n",
       "      <td>-0.064669</td>\n",
       "      <td>-0.010377</td>\n",
       "      <td>-0.006438</td>\n",
       "      <td>-0.375935</td>\n",
       "      <td>1.000000</td>\n",
       "      <td>-0.204509</td>\n",
       "      <td>-0.106563</td>\n",
       "      <td>-0.336023</td>\n",
       "      <td>0.426743</td>\n",
       "      <td>0.009026</td>\n",
       "    </tr>\n",
       "    <tr>\n",
       "      <th>Category_C3</th>\n",
       "      <td>-0.145368</td>\n",
       "      <td>-0.054299</td>\n",
       "      <td>0.059709</td>\n",
       "      <td>-0.012721</td>\n",
       "      <td>-0.067170</td>\n",
       "      <td>0.005966</td>\n",
       "      <td>-0.031221</td>\n",
       "      <td>0.008737</td>\n",
       "      <td>0.004313</td>\n",
       "      <td>-0.511111</td>\n",
       "      <td>-0.204509</td>\n",
       "      <td>1.000000</td>\n",
       "      <td>-0.144881</td>\n",
       "      <td>0.012903</td>\n",
       "      <td>-0.171153</td>\n",
       "      <td>0.125951</td>\n",
       "    </tr>\n",
       "    <tr>\n",
       "      <th>Category_C4</th>\n",
       "      <td>-0.221089</td>\n",
       "      <td>-0.105561</td>\n",
       "      <td>-0.175570</td>\n",
       "      <td>0.140259</td>\n",
       "      <td>-0.056709</td>\n",
       "      <td>-0.005739</td>\n",
       "      <td>0.189478</td>\n",
       "      <td>-0.007485</td>\n",
       "      <td>-0.007173</td>\n",
       "      <td>-0.266324</td>\n",
       "      <td>-0.106563</td>\n",
       "      <td>-0.144881</td>\n",
       "      <td>1.000000</td>\n",
       "      <td>0.247423</td>\n",
       "      <td>-0.126487</td>\n",
       "      <td>-0.159848</td>\n",
       "    </tr>\n",
       "    <tr>\n",
       "      <th>Rating_Bronze</th>\n",
       "      <td>-0.604718</td>\n",
       "      <td>-0.337831</td>\n",
       "      <td>-0.106989</td>\n",
       "      <td>0.032349</td>\n",
       "      <td>-0.188551</td>\n",
       "      <td>0.029251</td>\n",
       "      <td>0.193840</td>\n",
       "      <td>0.010314</td>\n",
       "      <td>0.006704</td>\n",
       "      <td>0.261520</td>\n",
       "      <td>-0.336023</td>\n",
       "      <td>0.012903</td>\n",
       "      <td>0.247423</td>\n",
       "      <td>1.000000</td>\n",
       "      <td>-0.458942</td>\n",
       "      <td>-0.688710</td>\n",
       "    </tr>\n",
       "    <tr>\n",
       "      <th>Rating_Gold</th>\n",
       "      <td>0.687708</td>\n",
       "      <td>0.324612</td>\n",
       "      <td>-0.040801</td>\n",
       "      <td>-0.020274</td>\n",
       "      <td>0.373601</td>\n",
       "      <td>-0.025333</td>\n",
       "      <td>-0.130897</td>\n",
       "      <td>-0.029541</td>\n",
       "      <td>0.000753</td>\n",
       "      <td>-0.315025</td>\n",
       "      <td>0.426743</td>\n",
       "      <td>-0.171153</td>\n",
       "      <td>-0.126487</td>\n",
       "      <td>-0.458942</td>\n",
       "      <td>1.000000</td>\n",
       "      <td>-0.328093</td>\n",
       "    </tr>\n",
       "    <tr>\n",
       "      <th>Rating_Silver</th>\n",
       "      <td>0.081748</td>\n",
       "      <td>0.094292</td>\n",
       "      <td>0.147049</td>\n",
       "      <td>-0.017850</td>\n",
       "      <td>-0.104406</td>\n",
       "      <td>-0.010427</td>\n",
       "      <td>-0.099278</td>\n",
       "      <td>0.013142</td>\n",
       "      <td>-0.007743</td>\n",
       "      <td>-0.020979</td>\n",
       "      <td>0.009026</td>\n",
       "      <td>0.125951</td>\n",
       "      <td>-0.159848</td>\n",
       "      <td>-0.688710</td>\n",
       "      <td>-0.328093</td>\n",
       "      <td>1.000000</td>\n",
       "    </tr>\n",
       "  </tbody>\n",
       "</table>\n",
       "</div>"
      ],
      "text/plain": [
       "                           Var1  Purchased_ABC_product  Group_G1  Group_G2  \\\n",
       "Var1                   1.000000               0.455038 -0.057952 -0.053556   \n",
       "Purchased_ABC_product  0.455038               1.000000 -0.069974 -0.034519   \n",
       "Group_G1              -0.057952              -0.069974  1.000000 -0.128404   \n",
       "Group_G2              -0.053556              -0.034519 -0.128404  1.000000   \n",
       "Group_G3               0.374250               0.165655 -0.319995 -0.024324   \n",
       "Group_G4              -0.022113              -0.010723 -0.165856 -0.012608   \n",
       "Group_G5              -0.108587               0.003854 -0.805670 -0.061243   \n",
       "Group_G6              -0.018079              -0.014330 -0.131416 -0.009990   \n",
       "Group_G7               0.002049               0.003544 -0.033933 -0.002579   \n",
       "Category_C1           -0.344572              -0.209266  0.092573 -0.033405   \n",
       "Category_C2            0.518138               0.213445 -0.028278 -0.029467   \n",
       "Category_C3           -0.145368              -0.054299  0.059709 -0.012721   \n",
       "Category_C4           -0.221089              -0.105561 -0.175570  0.140259   \n",
       "Rating_Bronze         -0.604718              -0.337831 -0.106989  0.032349   \n",
       "Rating_Gold            0.687708               0.324612 -0.040801 -0.020274   \n",
       "Rating_Silver          0.081748               0.094292  0.147049 -0.017850   \n",
       "\n",
       "                       Group_G3  Group_G4  Group_G5  Group_G6  Group_G7  \\\n",
       "Var1                   0.374250 -0.022113 -0.108587 -0.018079  0.002049   \n",
       "Purchased_ABC_product  0.165655 -0.010723  0.003854 -0.014330  0.003544   \n",
       "Group_G1              -0.319995 -0.165856 -0.805670 -0.131416 -0.033933   \n",
       "Group_G2              -0.024324 -0.012608 -0.061243 -0.009990 -0.002579   \n",
       "Group_G3               1.000000 -0.031419 -0.152623 -0.024895 -0.006428   \n",
       "Group_G4              -0.031419  1.000000 -0.079106 -0.012903 -0.003332   \n",
       "Group_G5              -0.152623 -0.079106  1.000000 -0.062679 -0.016184   \n",
       "Group_G6              -0.024895 -0.012903 -0.062679  1.000000 -0.002640   \n",
       "Group_G7              -0.006428 -0.003332 -0.016184 -0.002640  1.000000   \n",
       "Category_C1           -0.173782  0.012250 -0.007481  0.012881 -0.005405   \n",
       "Category_C2            0.209978 -0.014246 -0.064669 -0.010377 -0.006438   \n",
       "Category_C3           -0.067170  0.005966 -0.031221  0.008737  0.004313   \n",
       "Category_C4           -0.056709 -0.005739  0.189478 -0.007485 -0.007173   \n",
       "Rating_Bronze         -0.188551  0.029251  0.193840  0.010314  0.006704   \n",
       "Rating_Gold            0.373601 -0.025333 -0.130897 -0.029541  0.000753   \n",
       "Rating_Silver         -0.104406 -0.010427 -0.099278  0.013142 -0.007743   \n",
       "\n",
       "                       Category_C1  Category_C2  Category_C3  Category_C4  \\\n",
       "Var1                     -0.344572     0.518138    -0.145368    -0.221089   \n",
       "Purchased_ABC_product    -0.209266     0.213445    -0.054299    -0.105561   \n",
       "Group_G1                  0.092573    -0.028278     0.059709    -0.175570   \n",
       "Group_G2                 -0.033405    -0.029467    -0.012721     0.140259   \n",
       "Group_G3                 -0.173782     0.209978    -0.067170    -0.056709   \n",
       "Group_G4                  0.012250    -0.014246     0.005966    -0.005739   \n",
       "Group_G5                 -0.007481    -0.064669    -0.031221     0.189478   \n",
       "Group_G6                  0.012881    -0.010377     0.008737    -0.007485   \n",
       "Group_G7                 -0.005405    -0.006438     0.004313    -0.007173   \n",
       "Category_C1               1.000000    -0.375935    -0.511111    -0.266324   \n",
       "Category_C2              -0.375935     1.000000    -0.204509    -0.106563   \n",
       "Category_C3              -0.511111    -0.204509     1.000000    -0.144881   \n",
       "Category_C4              -0.266324    -0.106563    -0.144881     1.000000   \n",
       "Rating_Bronze             0.261520    -0.336023     0.012903     0.247423   \n",
       "Rating_Gold              -0.315025     0.426743    -0.171153    -0.126487   \n",
       "Rating_Silver            -0.020979     0.009026     0.125951    -0.159848   \n",
       "\n",
       "                       Rating_Bronze  Rating_Gold  Rating_Silver  \n",
       "Var1                       -0.604718     0.687708       0.081748  \n",
       "Purchased_ABC_product      -0.337831     0.324612       0.094292  \n",
       "Group_G1                   -0.106989    -0.040801       0.147049  \n",
       "Group_G2                    0.032349    -0.020274      -0.017850  \n",
       "Group_G3                   -0.188551     0.373601      -0.104406  \n",
       "Group_G4                    0.029251    -0.025333      -0.010427  \n",
       "Group_G5                    0.193840    -0.130897      -0.099278  \n",
       "Group_G6                    0.010314    -0.029541       0.013142  \n",
       "Group_G7                    0.006704     0.000753      -0.007743  \n",
       "Category_C1                 0.261520    -0.315025      -0.020979  \n",
       "Category_C2                -0.336023     0.426743       0.009026  \n",
       "Category_C3                 0.012903    -0.171153       0.125951  \n",
       "Category_C4                 0.247423    -0.126487      -0.159848  \n",
       "Rating_Bronze               1.000000    -0.458942      -0.688710  \n",
       "Rating_Gold                -0.458942     1.000000      -0.328093  \n",
       "Rating_Silver              -0.688710    -0.328093       1.000000  "
      ]
     },
     "execution_count": 98,
     "metadata": {},
     "output_type": "execute_result"
    }
   ],
   "source": [
    "#CORRELATION MARTIX\n",
    "df.corr()"
   ]
  },
  {
   "cell_type": "code",
   "execution_count": null,
   "id": "88e9d3e9",
   "metadata": {},
   "outputs": [],
   "source": []
  },
  {
   "cell_type": "code",
   "execution_count": 53,
   "id": "04fbec9d",
   "metadata": {},
   "outputs": [],
   "source": [
    "#LOGISTIC MODEL FITTING\n",
    "x=df.loc[:, df.columns != 'Purchased_ABC_product']\n",
    "y=df['Purchased_ABC_product']"
   ]
  },
  {
   "cell_type": "code",
   "execution_count": 55,
   "id": "5a2d663e",
   "metadata": {},
   "outputs": [],
   "source": [
    "model=LogisticRegression()\n",
    "model.fit(x,y)\n",
    "model.coef_"
   ]
  },
  {
   "cell_type": "code",
   "execution_count": 59,
   "id": "2d2f0968",
   "metadata": {},
   "outputs": [
    {
     "data": {
      "text/plain": [
       "array([0.06925082])"
      ]
     },
     "execution_count": 59,
     "metadata": {},
     "output_type": "execute_result"
    }
   ],
   "source": [
    "model.intercept_"
   ]
  },
  {
   "cell_type": "code",
   "execution_count": 60,
   "id": "d688da5a",
   "metadata": {},
   "outputs": [
    {
     "data": {
      "text/plain": [
       "array([[0.04758402, 0.95241598],\n",
       "       [0.79505365, 0.20494635],\n",
       "       [0.46884503, 0.53115497],\n",
       "       ...,\n",
       "       [0.25626683, 0.74373317],\n",
       "       [0.7533487 , 0.2466513 ],\n",
       "       [0.76752521, 0.23247479]])"
      ]
     },
     "execution_count": 60,
     "metadata": {},
     "output_type": "execute_result"
    }
   ],
   "source": [
    "#FINDING PROBABILITIES FOR EACH CUSTOMER\n",
    "model.predict_proba(x)"
   ]
  },
  {
   "cell_type": "code",
   "execution_count": 61,
   "id": "484c2af9",
   "metadata": {},
   "outputs": [],
   "source": [
    "y_predict=model.predict(x)"
   ]
  },
  {
   "cell_type": "code",
   "execution_count": 62,
   "id": "d6f93da3",
   "metadata": {},
   "outputs": [
    {
     "data": {
      "text/plain": [
       "array([1, 0, 1, ..., 1, 0, 0], dtype=int64)"
      ]
     },
     "execution_count": 62,
     "metadata": {},
     "output_type": "execute_result"
    }
   ],
   "source": [
    "y_predict"
   ]
  },
  {
   "cell_type": "code",
   "execution_count": null,
   "id": "3fd1d4d2",
   "metadata": {},
   "outputs": [],
   "source": [
    "x_train,x_test,y_train,y_test=train_test_split(x,y,test_size=0.2,random_state=0)"
   ]
  },
  {
   "cell_type": "code",
   "execution_count": 63,
   "id": "2d530e0a",
   "metadata": {},
   "outputs": [
    {
     "data": {
      "text/plain": [
       "array([[12873,  2432],\n",
       "       [ 5401, 10123]], dtype=int64)"
      ]
     },
     "execution_count": 63,
     "metadata": {},
     "output_type": "execute_result"
    }
   ],
   "source": [
    "y_test_pred=lr.predict(x_test)"
   ]
  },
  {
   "cell_type": "code",
   "execution_count": 64,
   "id": "e33670a6",
   "metadata": {},
   "outputs": [],
   "source": []
  },
  {
   "cell_type": "code",
   "execution_count": 67,
   "id": "0e5f1877",
   "metadata": {},
   "outputs": [],
   "source": [
    "y_test_pred=lr.predict(x_test)"
   ]
  },
  {
   "cell_type": "code",
   "execution_count": 69,
   "id": "5767281e",
   "metadata": {},
   "outputs": [],
   "source": [
    " #CONFUSION MATRIX\n",
    "con=confusion_matrix(y_test,y_test_pred)"
   ]
  },
  {
   "cell_type": "code",
   "execution_count": 70,
   "id": "3a451536",
   "metadata": {},
   "outputs": [
    {
     "data": {
      "text/plain": [
       "array([[2637,  467],\n",
       "       [1110, 1952]], dtype=int64)"
      ]
     },
     "execution_count": 70,
     "metadata": {},
     "output_type": "execute_result"
    }
   ],
   "source": [
    "con"
   ]
  },
  {
   "cell_type": "code",
   "execution_count": 71,
   "id": "88c129c9",
   "metadata": {},
   "outputs": [
    {
     "data": {
      "text/plain": [
       "0.7442426208238728"
      ]
     },
     "execution_count": 71,
     "metadata": {},
     "output_type": "execute_result"
    }
   ],
   "source": [
    "#ACCURACY SCORE\n",
    "accuracy_score(y_test,y_test_pred)"
   ]
  },
  {
   "cell_type": "code",
   "execution_count": 74,
   "id": "895b5004",
   "metadata": {},
   "outputs": [
    {
     "data": {
      "text/plain": [
       "0.6374918354016982"
      ]
     },
     "execution_count": 74,
     "metadata": {},
     "output_type": "execute_result"
    }
   ],
   "source": [
    "#RECALL SCORE\n",
    "recall_score(y_test,y_test_pred)"
   ]
  },
  {
   "cell_type": "code",
   "execution_count": 75,
   "id": "8c06b251",
   "metadata": {},
   "outputs": [
    {
     "data": {
      "text/plain": [
       "0.8069450186027284"
      ]
     },
     "execution_count": 75,
     "metadata": {},
     "output_type": "execute_result"
    }
   ],
   "source": [
    "#PRECISION SCORE\n",
    "precision_score(y_test,y_test_pred)"
   ]
  },
  {
   "cell_type": "code",
   "execution_count": 77,
   "id": "0803b198",
   "metadata": {},
   "outputs": [
    {
     "data": {
      "text/plain": [
       "<seaborn.axisgrid.JointGrid at 0x25493c1d430>"
      ]
     },
     "execution_count": 77,
     "metadata": {},
     "output_type": "execute_result"
    },
    {
     "data": {
      "image/png": "[encoded data removed]",
      "text/plain": [
       "<Figure size 432x432 with 3 Axes>"
      ]
     },
     "metadata": {
      "needs_background": "light"
     },
     "output_type": "display_data"
    }
   ],
   "source": [
    "sns.jointplot(x='Var1',y='Var2',data=df)"
   ]
  },
  {
   "cell_type": "code",
   "execution_count": 81,
   "id": "8a50aa56",
   "metadata": {},
   "outputs": [],
   "source": [
    "#INFERENCES\n",
    "#MULTYCOLLINIERITY\n",
    "x=df['Var1']\n",
    "y=df['Var2']"
   ]
  },
  {
   "cell_type": "code",
   "execution_count": 82,
   "id": "02e3c078",
   "metadata": {},
   "outputs": [
    {
     "data": {
      "text/plain": [
       "array([[1.      , 0.819682],\n",
       "       [0.819682, 1.      ]])"
      ]
     },
     "execution_count": 82,
     "metadata": {},
     "output_type": "execute_result"
    }
   ],
   "source": [
    "# CORRELATION BETWEEN VAR1,VAR2 IS HIGH.SO WE REMOVWE ONE VARIABLE\n",
    "np.corrcoef(x,y)"
   ]
  },
  {
   "cell_type": "code",
   "execution_count": 83,
   "id": "363112f9",
   "metadata": {},
   "outputs": [],
   "source": [
    "del df['Var2']"
   ]
  },
  {
   "cell_type": "code",
   "execution_count": 84,
   "id": "c2dc06ac",
   "metadata": {},
   "outputs": [
    {
     "data": {
      "text/html": [
       "<div>\n",
       "<style scoped>\n",
       "    .dataframe tbody tr th:only-of-type {\n",
       "        vertical-align: middle;\n",
       "    }\n",
       "\n",
       "    .dataframe tbody tr th {\n",
       "        vertical-align: top;\n",
       "    }\n",
       "\n",
       "    .dataframe thead th {\n",
       "        text-align: right;\n",
       "    }\n",
       "</style>\n",
       "<table border=\"1\" class=\"dataframe\">\n",
       "  <thead>\n",
       "    <tr style=\"text-align: right;\">\n",
       "      <th></th>\n",
       "      <th>Var1</th>\n",
       "      <th>Purchased_ABC_product</th>\n",
       "      <th>Group_G1</th>\n",
       "      <th>Group_G2</th>\n",
       "      <th>Group_G3</th>\n",
       "      <th>Group_G4</th>\n",
       "      <th>Group_G5</th>\n",
       "      <th>Group_G6</th>\n",
       "      <th>Group_G7</th>\n",
       "      <th>Category_C1</th>\n",
       "      <th>Category_C2</th>\n",
       "      <th>Category_C3</th>\n",
       "      <th>Category_C4</th>\n",
       "      <th>Rating_Bronze</th>\n",
       "      <th>Rating_Gold</th>\n",
       "      <th>Rating_Silver</th>\n",
       "    </tr>\n",
       "  </thead>\n",
       "  <tbody>\n",
       "    <tr>\n",
       "      <th>0</th>\n",
       "      <td>41.534</td>\n",
       "      <td>0</td>\n",
       "      <td>1</td>\n",
       "      <td>0</td>\n",
       "      <td>0</td>\n",
       "      <td>0</td>\n",
       "      <td>0</td>\n",
       "      <td>0</td>\n",
       "      <td>0</td>\n",
       "      <td>1</td>\n",
       "      <td>0</td>\n",
       "      <td>0</td>\n",
       "      <td>0</td>\n",
       "      <td>1</td>\n",
       "      <td>0</td>\n",
       "      <td>0</td>\n",
       "    </tr>\n",
       "    <tr>\n",
       "      <th>1</th>\n",
       "      <td>9.445</td>\n",
       "      <td>0</td>\n",
       "      <td>1</td>\n",
       "      <td>0</td>\n",
       "      <td>0</td>\n",
       "      <td>0</td>\n",
       "      <td>0</td>\n",
       "      <td>0</td>\n",
       "      <td>0</td>\n",
       "      <td>1</td>\n",
       "      <td>0</td>\n",
       "      <td>0</td>\n",
       "      <td>0</td>\n",
       "      <td>1</td>\n",
       "      <td>0</td>\n",
       "      <td>0</td>\n",
       "    </tr>\n",
       "    <tr>\n",
       "      <th>2</th>\n",
       "      <td>37.599</td>\n",
       "      <td>0</td>\n",
       "      <td>1</td>\n",
       "      <td>0</td>\n",
       "      <td>0</td>\n",
       "      <td>0</td>\n",
       "      <td>0</td>\n",
       "      <td>0</td>\n",
       "      <td>0</td>\n",
       "      <td>0</td>\n",
       "      <td>1</td>\n",
       "      <td>0</td>\n",
       "      <td>0</td>\n",
       "      <td>0</td>\n",
       "      <td>1</td>\n",
       "      <td>0</td>\n",
       "    </tr>\n",
       "    <tr>\n",
       "      <th>3</th>\n",
       "      <td>81.514</td>\n",
       "      <td>0</td>\n",
       "      <td>1</td>\n",
       "      <td>0</td>\n",
       "      <td>0</td>\n",
       "      <td>0</td>\n",
       "      <td>0</td>\n",
       "      <td>0</td>\n",
       "      <td>0</td>\n",
       "      <td>1</td>\n",
       "      <td>0</td>\n",
       "      <td>0</td>\n",
       "      <td>0</td>\n",
       "      <td>0</td>\n",
       "      <td>0</td>\n",
       "      <td>1</td>\n",
       "    </tr>\n",
       "    <tr>\n",
       "      <th>4</th>\n",
       "      <td>46.805</td>\n",
       "      <td>0</td>\n",
       "      <td>1</td>\n",
       "      <td>0</td>\n",
       "      <td>0</td>\n",
       "      <td>0</td>\n",
       "      <td>0</td>\n",
       "      <td>0</td>\n",
       "      <td>0</td>\n",
       "      <td>1</td>\n",
       "      <td>0</td>\n",
       "      <td>0</td>\n",
       "      <td>0</td>\n",
       "      <td>0</td>\n",
       "      <td>0</td>\n",
       "      <td>1</td>\n",
       "    </tr>\n",
       "  </tbody>\n",
       "</table>\n",
       "</div>"
      ],
      "text/plain": [
       "     Var1  Purchased_ABC_product  Group_G1  Group_G2  Group_G3  Group_G4  \\\n",
       "0  41.534                      0         1         0         0         0   \n",
       "1   9.445                      0         1         0         0         0   \n",
       "2  37.599                      0         1         0         0         0   \n",
       "3  81.514                      0         1         0         0         0   \n",
       "4  46.805                      0         1         0         0         0   \n",
       "\n",
       "   Group_G5  Group_G6  Group_G7  Category_C1  Category_C2  Category_C3  \\\n",
       "0         0         0         0            1            0            0   \n",
       "1         0         0         0            1            0            0   \n",
       "2         0         0         0            0            1            0   \n",
       "3         0         0         0            1            0            0   \n",
       "4         0         0         0            1            0            0   \n",
       "\n",
       "   Category_C4  Rating_Bronze  Rating_Gold  Rating_Silver  \n",
       "0            0              1            0              0  \n",
       "1            0              1            0              0  \n",
       "2            0              0            1              0  \n",
       "3            0              0            0              1  \n",
       "4            0              0            0              1  "
      ]
     },
     "execution_count": 84,
     "metadata": {},
     "output_type": "execute_result"
    }
   ],
   "source": [
    "df.head()"
   ]
  },
  {
   "cell_type": "code",
   "execution_count": 85,
   "id": "a201f032",
   "metadata": {
    "scrolled": false
   },
   "outputs": [
    {
     "data": {
      "text/html": [
       "<div>\n",
       "<style scoped>\n",
       "    .dataframe tbody tr th:only-of-type {\n",
       "        vertical-align: middle;\n",
       "    }\n",
       "\n",
       "    .dataframe tbody tr th {\n",
       "        vertical-align: top;\n",
       "    }\n",
       "\n",
       "    .dataframe thead th {\n",
       "        text-align: right;\n",
       "    }\n",
       "</style>\n",
       "<table border=\"1\" class=\"dataframe\">\n",
       "  <thead>\n",
       "    <tr style=\"text-align: right;\">\n",
       "      <th></th>\n",
       "      <th>Var1</th>\n",
       "      <th>Purchased_ABC_product</th>\n",
       "      <th>Group_G1</th>\n",
       "      <th>Group_G2</th>\n",
       "      <th>Group_G3</th>\n",
       "      <th>Group_G4</th>\n",
       "      <th>Group_G5</th>\n",
       "      <th>Group_G6</th>\n",
       "      <th>Group_G7</th>\n",
       "      <th>Category_C1</th>\n",
       "      <th>Category_C2</th>\n",
       "      <th>Category_C3</th>\n",
       "      <th>Category_C4</th>\n",
       "      <th>Rating_Bronze</th>\n",
       "      <th>Rating_Gold</th>\n",
       "      <th>Rating_Silver</th>\n",
       "    </tr>\n",
       "  </thead>\n",
       "  <tbody>\n",
       "    <tr>\n",
       "      <th>Var1</th>\n",
       "      <td>1.000000</td>\n",
       "      <td>0.455038</td>\n",
       "      <td>-0.057952</td>\n",
       "      <td>-0.053556</td>\n",
       "      <td>0.374250</td>\n",
       "      <td>-0.022113</td>\n",
       "      <td>-0.108587</td>\n",
       "      <td>-0.018079</td>\n",
       "      <td>0.002049</td>\n",
       "      <td>-0.344572</td>\n",
       "      <td>0.518138</td>\n",
       "      <td>-0.145368</td>\n",
       "      <td>-0.221089</td>\n",
       "      <td>-0.604718</td>\n",
       "      <td>0.687708</td>\n",
       "      <td>0.081748</td>\n",
       "    </tr>\n",
       "    <tr>\n",
       "      <th>Purchased_ABC_product</th>\n",
       "      <td>0.455038</td>\n",
       "      <td>1.000000</td>\n",
       "      <td>-0.069974</td>\n",
       "      <td>-0.034519</td>\n",
       "      <td>0.165655</td>\n",
       "      <td>-0.010723</td>\n",
       "      <td>0.003854</td>\n",
       "      <td>-0.014330</td>\n",
       "      <td>0.003544</td>\n",
       "      <td>-0.209266</td>\n",
       "      <td>0.213445</td>\n",
       "      <td>-0.054299</td>\n",
       "      <td>-0.105561</td>\n",
       "      <td>-0.337831</td>\n",
       "      <td>0.324612</td>\n",
       "      <td>0.094292</td>\n",
       "    </tr>\n",
       "    <tr>\n",
       "      <th>Group_G1</th>\n",
       "      <td>-0.057952</td>\n",
       "      <td>-0.069974</td>\n",
       "      <td>1.000000</td>\n",
       "      <td>-0.128404</td>\n",
       "      <td>-0.319995</td>\n",
       "      <td>-0.165856</td>\n",
       "      <td>-0.805670</td>\n",
       "      <td>-0.131416</td>\n",
       "      <td>-0.033933</td>\n",
       "      <td>0.092573</td>\n",
       "      <td>-0.028278</td>\n",
       "      <td>0.059709</td>\n",
       "      <td>-0.175570</td>\n",
       "      <td>-0.106989</td>\n",
       "      <td>-0.040801</td>\n",
       "      <td>0.147049</td>\n",
       "    </tr>\n",
       "    <tr>\n",
       "      <th>Group_G2</th>\n",
       "      <td>-0.053556</td>\n",
       "      <td>-0.034519</td>\n",
       "      <td>-0.128404</td>\n",
       "      <td>1.000000</td>\n",
       "      <td>-0.024324</td>\n",
       "      <td>-0.012608</td>\n",
       "      <td>-0.061243</td>\n",
       "      <td>-0.009990</td>\n",
       "      <td>-0.002579</td>\n",
       "      <td>-0.033405</td>\n",
       "      <td>-0.029467</td>\n",
       "      <td>-0.012721</td>\n",
       "      <td>0.140259</td>\n",
       "      <td>0.032349</td>\n",
       "      <td>-0.020274</td>\n",
       "      <td>-0.017850</td>\n",
       "    </tr>\n",
       "    <tr>\n",
       "      <th>Group_G3</th>\n",
       "      <td>0.374250</td>\n",
       "      <td>0.165655</td>\n",
       "      <td>-0.319995</td>\n",
       "      <td>-0.024324</td>\n",
       "      <td>1.000000</td>\n",
       "      <td>-0.031419</td>\n",
       "      <td>-0.152623</td>\n",
       "      <td>-0.024895</td>\n",
       "      <td>-0.006428</td>\n",
       "      <td>-0.173782</td>\n",
       "      <td>0.209978</td>\n",
       "      <td>-0.067170</td>\n",
       "      <td>-0.056709</td>\n",
       "      <td>-0.188551</td>\n",
       "      <td>0.373601</td>\n",
       "      <td>-0.104406</td>\n",
       "    </tr>\n",
       "    <tr>\n",
       "      <th>Group_G4</th>\n",
       "      <td>-0.022113</td>\n",
       "      <td>-0.010723</td>\n",
       "      <td>-0.165856</td>\n",
       "      <td>-0.012608</td>\n",
       "      <td>-0.031419</td>\n",
       "      <td>1.000000</td>\n",
       "      <td>-0.079106</td>\n",
       "      <td>-0.012903</td>\n",
       "      <td>-0.003332</td>\n",
       "      <td>0.012250</td>\n",
       "      <td>-0.014246</td>\n",
       "      <td>0.005966</td>\n",
       "      <td>-0.005739</td>\n",
       "      <td>0.029251</td>\n",
       "      <td>-0.025333</td>\n",
       "      <td>-0.010427</td>\n",
       "    </tr>\n",
       "    <tr>\n",
       "      <th>Group_G5</th>\n",
       "      <td>-0.108587</td>\n",
       "      <td>0.003854</td>\n",
       "      <td>-0.805670</td>\n",
       "      <td>-0.061243</td>\n",
       "      <td>-0.152623</td>\n",
       "      <td>-0.079106</td>\n",
       "      <td>1.000000</td>\n",
       "      <td>-0.062679</td>\n",
       "      <td>-0.016184</td>\n",
       "      <td>-0.007481</td>\n",
       "      <td>-0.064669</td>\n",
       "      <td>-0.031221</td>\n",
       "      <td>0.189478</td>\n",
       "      <td>0.193840</td>\n",
       "      <td>-0.130897</td>\n",
       "      <td>-0.099278</td>\n",
       "    </tr>\n",
       "    <tr>\n",
       "      <th>Group_G6</th>\n",
       "      <td>-0.018079</td>\n",
       "      <td>-0.014330</td>\n",
       "      <td>-0.131416</td>\n",
       "      <td>-0.009990</td>\n",
       "      <td>-0.024895</td>\n",
       "      <td>-0.012903</td>\n",
       "      <td>-0.062679</td>\n",
       "      <td>1.000000</td>\n",
       "      <td>-0.002640</td>\n",
       "      <td>0.012881</td>\n",
       "      <td>-0.010377</td>\n",
       "      <td>0.008737</td>\n",
       "      <td>-0.007485</td>\n",
       "      <td>0.010314</td>\n",
       "      <td>-0.029541</td>\n",
       "      <td>0.013142</td>\n",
       "    </tr>\n",
       "    <tr>\n",
       "      <th>Group_G7</th>\n",
       "      <td>0.002049</td>\n",
       "      <td>0.003544</td>\n",
       "      <td>-0.033933</td>\n",
       "      <td>-0.002579</td>\n",
       "      <td>-0.006428</td>\n",
       "      <td>-0.003332</td>\n",
       "      <td>-0.016184</td>\n",
       "      <td>-0.002640</td>\n",
       "      <td>1.000000</td>\n",
       "      <td>-0.005405</td>\n",
       "      <td>-0.006438</td>\n",
       "      <td>0.004313</td>\n",
       "      <td>-0.007173</td>\n",
       "      <td>0.006704</td>\n",
       "      <td>0.000753</td>\n",
       "      <td>-0.007743</td>\n",
       "    </tr>\n",
       "    <tr>\n",
       "      <th>Category_C1</th>\n",
       "      <td>-0.344572</td>\n",
       "      <td>-0.209266</td>\n",
       "      <td>0.092573</td>\n",
       "      <td>-0.033405</td>\n",
       "      <td>-0.173782</td>\n",
       "      <td>0.012250</td>\n",
       "      <td>-0.007481</td>\n",
       "      <td>0.012881</td>\n",
       "      <td>-0.005405</td>\n",
       "      <td>1.000000</td>\n",
       "      <td>-0.375935</td>\n",
       "      <td>-0.511111</td>\n",
       "      <td>-0.266324</td>\n",
       "      <td>0.261520</td>\n",
       "      <td>-0.315025</td>\n",
       "      <td>-0.020979</td>\n",
       "    </tr>\n",
       "    <tr>\n",
       "      <th>Category_C2</th>\n",
       "      <td>0.518138</td>\n",
       "      <td>0.213445</td>\n",
       "      <td>-0.028278</td>\n",
       "      <td>-0.029467</td>\n",
       "      <td>0.209978</td>\n",
       "      <td>-0.014246</td>\n",
       "      <td>-0.064669</td>\n",
       "      <td>-0.010377</td>\n",
       "      <td>-0.006438</td>\n",
       "      <td>-0.375935</td>\n",
       "      <td>1.000000</td>\n",
       "      <td>-0.204509</td>\n",
       "      <td>-0.106563</td>\n",
       "      <td>-0.336023</td>\n",
       "      <td>0.426743</td>\n",
       "      <td>0.009026</td>\n",
       "    </tr>\n",
       "    <tr>\n",
       "      <th>Category_C3</th>\n",
       "      <td>-0.145368</td>\n",
       "      <td>-0.054299</td>\n",
       "      <td>0.059709</td>\n",
       "      <td>-0.012721</td>\n",
       "      <td>-0.067170</td>\n",
       "      <td>0.005966</td>\n",
       "      <td>-0.031221</td>\n",
       "      <td>0.008737</td>\n",
       "      <td>0.004313</td>\n",
       "      <td>-0.511111</td>\n",
       "      <td>-0.204509</td>\n",
       "      <td>1.000000</td>\n",
       "      <td>-0.144881</td>\n",
       "      <td>0.012903</td>\n",
       "      <td>-0.171153</td>\n",
       "      <td>0.125951</td>\n",
       "    </tr>\n",
       "    <tr>\n",
       "      <th>Category_C4</th>\n",
       "      <td>-0.221089</td>\n",
       "      <td>-0.105561</td>\n",
       "      <td>-0.175570</td>\n",
       "      <td>0.140259</td>\n",
       "      <td>-0.056709</td>\n",
       "      <td>-0.005739</td>\n",
       "      <td>0.189478</td>\n",
       "      <td>-0.007485</td>\n",
       "      <td>-0.007173</td>\n",
       "      <td>-0.266324</td>\n",
       "      <td>-0.106563</td>\n",
       "      <td>-0.144881</td>\n",
       "      <td>1.000000</td>\n",
       "      <td>0.247423</td>\n",
       "      <td>-0.126487</td>\n",
       "      <td>-0.159848</td>\n",
       "    </tr>\n",
       "    <tr>\n",
       "      <th>Rating_Bronze</th>\n",
       "      <td>-0.604718</td>\n",
       "      <td>-0.337831</td>\n",
       "      <td>-0.106989</td>\n",
       "      <td>0.032349</td>\n",
       "      <td>-0.188551</td>\n",
       "      <td>0.029251</td>\n",
       "      <td>0.193840</td>\n",
       "      <td>0.010314</td>\n",
       "      <td>0.006704</td>\n",
       "      <td>0.261520</td>\n",
       "      <td>-0.336023</td>\n",
       "      <td>0.012903</td>\n",
       "      <td>0.247423</td>\n",
       "      <td>1.000000</td>\n",
       "      <td>-0.458942</td>\n",
       "      <td>-0.688710</td>\n",
       "    </tr>\n",
       "    <tr>\n",
       "      <th>Rating_Gold</th>\n",
       "      <td>0.687708</td>\n",
       "      <td>0.324612</td>\n",
       "      <td>-0.040801</td>\n",
       "      <td>-0.020274</td>\n",
       "      <td>0.373601</td>\n",
       "      <td>-0.025333</td>\n",
       "      <td>-0.130897</td>\n",
       "      <td>-0.029541</td>\n",
       "      <td>0.000753</td>\n",
       "      <td>-0.315025</td>\n",
       "      <td>0.426743</td>\n",
       "      <td>-0.171153</td>\n",
       "      <td>-0.126487</td>\n",
       "      <td>-0.458942</td>\n",
       "      <td>1.000000</td>\n",
       "      <td>-0.328093</td>\n",
       "    </tr>\n",
       "    <tr>\n",
       "      <th>Rating_Silver</th>\n",
       "      <td>0.081748</td>\n",
       "      <td>0.094292</td>\n",
       "      <td>0.147049</td>\n",
       "      <td>-0.017850</td>\n",
       "      <td>-0.104406</td>\n",
       "      <td>-0.010427</td>\n",
       "      <td>-0.099278</td>\n",
       "      <td>0.013142</td>\n",
       "      <td>-0.007743</td>\n",
       "      <td>-0.020979</td>\n",
       "      <td>0.009026</td>\n",
       "      <td>0.125951</td>\n",
       "      <td>-0.159848</td>\n",
       "      <td>-0.688710</td>\n",
       "      <td>-0.328093</td>\n",
       "      <td>1.000000</td>\n",
       "    </tr>\n",
       "  </tbody>\n",
       "</table>\n",
       "</div>"
      ],
      "text/plain": [
       "                           Var1  Purchased_ABC_product  Group_G1  Group_G2  \\\n",
       "Var1                   1.000000               0.455038 -0.057952 -0.053556   \n",
       "Purchased_ABC_product  0.455038               1.000000 -0.069974 -0.034519   \n",
       "Group_G1              -0.057952              -0.069974  1.000000 -0.128404   \n",
       "Group_G2              -0.053556              -0.034519 -0.128404  1.000000   \n",
       "Group_G3               0.374250               0.165655 -0.319995 -0.024324   \n",
       "Group_G4              -0.022113              -0.010723 -0.165856 -0.012608   \n",
       "Group_G5              -0.108587               0.003854 -0.805670 -0.061243   \n",
       "Group_G6              -0.018079              -0.014330 -0.131416 -0.009990   \n",
       "Group_G7               0.002049               0.003544 -0.033933 -0.002579   \n",
       "Category_C1           -0.344572              -0.209266  0.092573 -0.033405   \n",
       "Category_C2            0.518138               0.213445 -0.028278 -0.029467   \n",
       "Category_C3           -0.145368              -0.054299  0.059709 -0.012721   \n",
       "Category_C4           -0.221089              -0.105561 -0.175570  0.140259   \n",
       "Rating_Bronze         -0.604718              -0.337831 -0.106989  0.032349   \n",
       "Rating_Gold            0.687708               0.324612 -0.040801 -0.020274   \n",
       "Rating_Silver          0.081748               0.094292  0.147049 -0.017850   \n",
       "\n",
       "                       Group_G3  Group_G4  Group_G5  Group_G6  Group_G7  \\\n",
       "Var1                   0.374250 -0.022113 -0.108587 -0.018079  0.002049   \n",
       "Purchased_ABC_product  0.165655 -0.010723  0.003854 -0.014330  0.003544   \n",
       "Group_G1              -0.319995 -0.165856 -0.805670 -0.131416 -0.033933   \n",
       "Group_G2              -0.024324 -0.012608 -0.061243 -0.009990 -0.002579   \n",
       "Group_G3               1.000000 -0.031419 -0.152623 -0.024895 -0.006428   \n",
       "Group_G4              -0.031419  1.000000 -0.079106 -0.012903 -0.003332   \n",
       "Group_G5              -0.152623 -0.079106  1.000000 -0.062679 -0.016184   \n",
       "Group_G6              -0.024895 -0.012903 -0.062679  1.000000 -0.002640   \n",
       "Group_G7              -0.006428 -0.003332 -0.016184 -0.002640  1.000000   \n",
       "Category_C1           -0.173782  0.012250 -0.007481  0.012881 -0.005405   \n",
       "Category_C2            0.209978 -0.014246 -0.064669 -0.010377 -0.006438   \n",
       "Category_C3           -0.067170  0.005966 -0.031221  0.008737  0.004313   \n",
       "Category_C4           -0.056709 -0.005739  0.189478 -0.007485 -0.007173   \n",
       "Rating_Bronze         -0.188551  0.029251  0.193840  0.010314  0.006704   \n",
       "Rating_Gold            0.373601 -0.025333 -0.130897 -0.029541  0.000753   \n",
       "Rating_Silver         -0.104406 -0.010427 -0.099278  0.013142 -0.007743   \n",
       "\n",
       "                       Category_C1  Category_C2  Category_C3  Category_C4  \\\n",
       "Var1                     -0.344572     0.518138    -0.145368    -0.221089   \n",
       "Purchased_ABC_product    -0.209266     0.213445    -0.054299    -0.105561   \n",
       "Group_G1                  0.092573    -0.028278     0.059709    -0.175570   \n",
       "Group_G2                 -0.033405    -0.029467    -0.012721     0.140259   \n",
       "Group_G3                 -0.173782     0.209978    -0.067170    -0.056709   \n",
       "Group_G4                  0.012250    -0.014246     0.005966    -0.005739   \n",
       "Group_G5                 -0.007481    -0.064669    -0.031221     0.189478   \n",
       "Group_G6                  0.012881    -0.010377     0.008737    -0.007485   \n",
       "Group_G7                 -0.005405    -0.006438     0.004313    -0.007173   \n",
       "Category_C1               1.000000    -0.375935    -0.511111    -0.266324   \n",
       "Category_C2              -0.375935     1.000000    -0.204509    -0.106563   \n",
       "Category_C3              -0.511111    -0.204509     1.000000    -0.144881   \n",
       "Category_C4              -0.266324    -0.106563    -0.144881     1.000000   \n",
       "Rating_Bronze             0.261520    -0.336023     0.012903     0.247423   \n",
       "Rating_Gold              -0.315025     0.426743    -0.171153    -0.126487   \n",
       "Rating_Silver            -0.020979     0.009026     0.125951    -0.159848   \n",
       "\n",
       "                       Rating_Bronze  Rating_Gold  Rating_Silver  \n",
       "Var1                       -0.604718     0.687708       0.081748  \n",
       "Purchased_ABC_product      -0.337831     0.324612       0.094292  \n",
       "Group_G1                   -0.106989    -0.040801       0.147049  \n",
       "Group_G2                    0.032349    -0.020274      -0.017850  \n",
       "Group_G3                   -0.188551     0.373601      -0.104406  \n",
       "Group_G4                    0.029251    -0.025333      -0.010427  \n",
       "Group_G5                    0.193840    -0.130897      -0.099278  \n",
       "Group_G6                    0.010314    -0.029541       0.013142  \n",
       "Group_G7                    0.006704     0.000753      -0.007743  \n",
       "Category_C1                 0.261520    -0.315025      -0.020979  \n",
       "Category_C2                -0.336023     0.426743       0.009026  \n",
       "Category_C3                 0.012903    -0.171153       0.125951  \n",
       "Category_C4                 0.247423    -0.126487      -0.159848  \n",
       "Rating_Bronze               1.000000    -0.458942      -0.688710  \n",
       "Rating_Gold                -0.458942     1.000000      -0.328093  \n",
       "Rating_Silver              -0.688710    -0.328093       1.000000  "
      ]
     },
     "execution_count": 85,
     "metadata": {},
     "output_type": "execute_result"
    }
   ],
   "source": [
    "df.corr()\n"
   ]
  },
  {
   "cell_type": "code",
   "execution_count": 89,
   "id": "6bdaa228",
   "metadata": {},
   "outputs": [],
   "source": [
    "x=df[['Var1']]\n",
    "y=df['Purchased_ABC_product']"
   ]
  },
  {
   "cell_type": "code",
   "execution_count": 90,
   "id": "500c5925",
   "metadata": {},
   "outputs": [
    {
     "data": {
      "text/plain": [
       "LogisticRegression()"
      ]
     },
     "execution_count": 90,
     "metadata": {},
     "output_type": "execute_result"
    }
   ],
   "source": [
    "model=LogisticRegression()\n",
    "model.fit(x,y)"
   ]
  },
  {
   "cell_type": "code",
   "execution_count": 97,
   "id": "040237c8",
   "metadata": {},
   "outputs": [
    {
     "data": {
      "text/plain": [
       "0.6921829386960753"
      ]
     },
     "execution_count": 97,
     "metadata": {},
     "output_type": "execute_result"
    }
   ],
   "source": [
    "x_train,x_test,y_train,y_test=train_test_split(x,y,test_size=0.2,random_state=0)\n",
    "lr=LogisticRegression().fit(x_train,y_train)\n",
    "y_test_pred=lr.predict(x_test)\n",
    "\n",
    "con=confusion_matrix(y_test,y_test_pred)\n",
    "con\n",
    "accuracy_score(y_test,y_test_pred)\n"
   ]
  },
  {
   "cell_type": "code",
   "execution_count": 95,
   "id": "cbbd58e6",
   "metadata": {},
   "outputs": [
    {
     "data": {
      "text/plain": [
       "0.7431077694235589"
      ]
     },
     "execution_count": 95,
     "metadata": {},
     "output_type": "execute_result"
    }
   ],
   "source": [
    "precision_score(y_test,y_test_pred)"
   ]
  },
  {
   "cell_type": "code",
   "execution_count": 96,
   "id": "07ea2029",
   "metadata": {},
   "outputs": [
    {
     "data": {
      "text/plain": [
       "0.5809928151534944"
      ]
     },
     "execution_count": 96,
     "metadata": {},
     "output_type": "execute_result"
    }
   ],
   "source": [
    "recall_score(y_test,y_test_pred)"
   ]
  },
  {
   "cell_type": "code",
   "execution_count": 104,
   "id": "633bfb0d",
   "metadata": {},
   "outputs": [
    {
     "data": {
      "text/plain": [
       "array([[  200, 15105],\n",
       "       [   98, 15426]], dtype=int64)"
      ]
     },
     "execution_count": 104,
     "metadata": {},
     "output_type": "execute_result"
    }
   ],
   "source": [
    "#identifying the group to reach out to increase sale of ABC\n",
    "a=df[['Group_G2']]\n",
    "b=df['Purchased_ABC_product']\n",
    "model=LogisticRegression().fit(a,b)\n",
    "\n",
    "b_pred=model.predict(a)\n",
    "con=confusion_matrix(b,b_pred)\n",
    "con\n",
    "\n"
   ]
  },
  {
   "cell_type": "code",
   "execution_count": 105,
   "id": "af02fed1",
   "metadata": {},
   "outputs": [
    {
     "data": {
      "text/plain": [
       "0.9936871940221592"
      ]
     },
     "execution_count": 105,
     "metadata": {},
     "output_type": "execute_result"
    }
   ],
   "source": [
    "recall_score(b,b_pred)"
   ]
  },
  {
   "cell_type": "code",
   "execution_count": 111,
   "id": "ae359c3a",
   "metadata": {},
   "outputs": [
    {
     "data": {
      "text/plain": [
       "array([[    0, 15305],\n",
       "       [    0, 15524]], dtype=int64)"
      ]
     },
     "execution_count": 111,
     "metadata": {},
     "output_type": "execute_result"
    }
   ],
   "source": [
    "a=df[['Group_G7']]\n",
    "b=df['Purchased_ABC_product']\n",
    "model=LogisticRegression().fit(a,b)\n",
    "\n",
    "b_pred=model.predict(a)\n",
    "con=confusion_matrix(b,b_pred)\n",
    "con"
   ]
  },
  {
   "cell_type": "code",
   "execution_count": 107,
   "id": "005c7715",
   "metadata": {},
   "outputs": [
    {
     "data": {
      "text/plain": [
       "0.09533625354290132"
      ]
     },
     "execution_count": 107,
     "metadata": {},
     "output_type": "execute_result"
    }
   ],
   "source": [
    "recall_score(b,b_pred)"
   ]
  },
  {
   "cell_type": "code",
   "execution_count": null,
   "id": "4beaefcc",
   "metadata": {},
   "outputs": [],
   "source": []
  }
 ],
 "metadata": {
  "kernelspec": {
   "display_name": "Python 3 (ipykernel)",
   "language": "python",
   "name": "python3"
  },
  "language_info": {
   "codemirror_mode": {
    "name": "ipython",
    "version": 3
   },
   "file_extension": ".py",
   "mimetype": "text/x-python",
   "name": "python",
   "nbconvert_exporter": "python",
   "pygments_lexer": "ipython3",
   "version": "3.9.7"
  }
 },
 "nbformat": 4,
 "nbformat_minor": 5
}
